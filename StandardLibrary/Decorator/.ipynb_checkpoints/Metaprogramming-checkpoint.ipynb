{
 "cells": [
  {
   "cell_type": "markdown",
   "id": "correct-canada",
   "metadata": {},
   "source": [
    "**9.1. Putting a Wapper Around a Function**\n",
    "\n",
    "problem : you want to put a wrapper layer around a function that adds extra processign (e.g, logging timing, etc) "
   ]
  },
  {
   "cell_type": "code",
   "execution_count": 1,
   "id": "sharing-shock",
   "metadata": {},
   "outputs": [],
   "source": [
    "# define a decorator function \n",
    "\n",
    "import time \n",
    "from functools import wraps \n",
    "\n",
    "def timethis(func):\n",
    "    \"\"\"\n",
    "    Decorator that reports the execution time.\n",
    "    \"\"\"\n",
    "    @wraps(func)\n",
    "    def wrapper(*args, **kargs):\n",
    "        start = time.time()\n",
    "        result = func(*args, **kargs)\n",
    "        end = time.time()\n",
    "        print(func.__name__, end-start)\n",
    "        return result \n",
    "    return wrapper "
   ]
  },
  {
   "cell_type": "code",
   "execution_count": 3,
   "id": "smaller-cameroon",
   "metadata": {},
   "outputs": [],
   "source": [
    "# using the decorator \n",
    "@timethis\n",
    "def countdown(n):\n",
    "    \"\"\"\n",
    "    Counts down \n",
    "    \"\"\"\n",
    "    while n>0:\n",
    "        n-=1"
   ]
  },
  {
   "cell_type": "code",
   "execution_count": 4,
   "id": "choice-edgar",
   "metadata": {},
   "outputs": [
    {
     "name": "stdout",
     "output_type": "stream",
     "text": [
      "countdown 0.002594470977783203\n"
     ]
    }
   ],
   "source": [
    "countdown(10000)"
   ]
  },
  {
   "cell_type": "code",
   "execution_count": 5,
   "id": "improved-desperate",
   "metadata": {},
   "outputs": [
    {
     "name": "stdout",
     "output_type": "stream",
     "text": [
      "countdown 0.40646815299987793\n"
     ]
    }
   ],
   "source": [
    "countdown(10000000)"
   ]
  },
  {
   "cell_type": "markdown",
   "id": "acting-ordinance",
   "metadata": {},
   "source": [
    "- A decorator is a function that accepts afunction as input and returns a new function as output"
   ]
  },
  {
   "cell_type": "markdown",
   "id": "freelance-startup",
   "metadata": {},
   "source": [
    "**9.2 Preserving Function Metadata When Writing Decorators**\n",
    "\n",
    "Problem: You've written a decorator, but when you apply it to a function , important metadata such as the name, doc string, annotations, and calling signature are lost."
   ]
  },
  {
   "cell_type": "code",
   "execution_count": 22,
   "id": "billion-magnet",
   "metadata": {},
   "outputs": [],
   "source": [
    "import time \n",
    "from functools import wraps \n",
    "\n",
    "def timethis(func):\n",
    "    \"\"\"\n",
    "    Decorator that reports that executiont time.\n",
    "    \"\"\"\n",
    "    @wraps(func)\n",
    "    def wrapper(*args, **kargs):\n",
    "        start=time.time()\n",
    "        result=func(*args, **kargs)\n",
    "        end=time.time()\n",
    "        print(func.__name__,end-start)\n",
    "        return result \n",
    "    return wrapper"
   ]
  },
  {
   "cell_type": "code",
   "execution_count": 23,
   "id": "attached-wales",
   "metadata": {},
   "outputs": [],
   "source": [
    "@timethis\n",
    "def countdown(n:int):\n",
    "    \"\"\"\n",
    "    Counts down\n",
    "    \"\"\"\n",
    "    while n>0:\n",
    "        n-=1"
   ]
  },
  {
   "cell_type": "code",
   "execution_count": null,
   "id": "fourth-clinton",
   "metadata": {},
   "outputs": [],
   "source": [
    "countdown(10)"
   ]
  },
  {
   "cell_type": "code",
   "execution_count": null,
   "id": "lyric-lithuania",
   "metadata": {},
   "outputs": [],
   "source": []
  },
  {
   "cell_type": "code",
   "execution_count": null,
   "id": "southern-marine",
   "metadata": {},
   "outputs": [],
   "source": []
  },
  {
   "cell_type": "code",
   "execution_count": null,
   "id": "tamil-planet",
   "metadata": {},
   "outputs": [],
   "source": []
  },
  {
   "cell_type": "code",
   "execution_count": null,
   "id": "spare-nevada",
   "metadata": {},
   "outputs": [],
   "source": []
  },
  {
   "cell_type": "code",
   "execution_count": null,
   "id": "existing-marshall",
   "metadata": {},
   "outputs": [],
   "source": []
  }
 ],
 "metadata": {
  "kernelspec": {
   "display_name": "Python 3",
   "language": "python",
   "name": "python3"
  },
  "language_info": {
   "codemirror_mode": {
    "name": "ipython",
    "version": 3
   },
   "file_extension": ".py",
   "mimetype": "text/x-python",
   "name": "python",
   "nbconvert_exporter": "python",
   "pygments_lexer": "ipython3",
   "version": "3.9.2"
  }
 },
 "nbformat": 4,
 "nbformat_minor": 5
}
