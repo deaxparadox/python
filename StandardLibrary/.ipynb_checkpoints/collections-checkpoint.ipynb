{
 "cells": [
  {
   "cell_type": "code",
   "execution_count": 2,
   "id": "isolated-deadline",
   "metadata": {},
   "outputs": [],
   "source": [
    "import collections"
   ]
  },
  {
   "cell_type": "markdown",
   "id": "rental-insulin",
   "metadata": {},
   "source": [
    "# ChainMap: Search Multiple Directories"
   ]
  },
  {
   "cell_type": "markdown",
   "id": "antique-nicholas",
   "metadata": {},
   "source": [
    "**Acessing Values**"
   ]
  },
  {
   "cell_type": "code",
   "execution_count": 3,
   "id": "paperback-entertainment",
   "metadata": {},
   "outputs": [
    {
     "data": {
      "text/plain": [
       "'collections chainmap_read'"
      ]
     },
     "execution_count": 3,
     "metadata": {},
     "output_type": "execute_result"
    }
   ],
   "source": [
    "\"\"\"collections chainmap_read\"\"\""
   ]
  },
  {
   "cell_type": "code",
   "execution_count": 5,
   "id": "fitting-terrace",
   "metadata": {},
   "outputs": [],
   "source": [
    "a = {'a':'A', 'c':'C'}\n",
    "b = {'b':'B', 'c':'D'}\n",
    "\n",
    "m = collections.ChainMap(a,b)\n",
    "print(\"Individual Values\")\n",
    "print(\"a = {}\".format(m['a']))"
   ]
  },
  {
   "cell_type": "code",
   "execution_count": null,
   "id": "light-benefit",
   "metadata": {},
   "outputs": [],
   "source": []
  },
  {
   "cell_type": "code",
   "execution_count": null,
   "id": "blessed-explosion",
   "metadata": {},
   "outputs": [],
   "source": []
  }
 ],
 "metadata": {
  "kernelspec": {
   "display_name": "Python 3",
   "language": "python",
   "name": "python3"
  },
  "language_info": {
   "codemirror_mode": {
    "name": "ipython",
    "version": 3
   },
   "file_extension": ".py",
   "mimetype": "text/x-python",
   "name": "python",
   "nbconvert_exporter": "python",
   "pygments_lexer": "ipython3",
   "version": "3.9.2"
  }
 },
 "nbformat": 4,
 "nbformat_minor": 5
}
