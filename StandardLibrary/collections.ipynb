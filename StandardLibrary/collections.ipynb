{
 "cells": [
  {
   "cell_type": "code",
   "execution_count": 2,
   "id": "celtic-computer",
   "metadata": {},
   "outputs": [],
   "source": [
    "import collections"
   ]
  },
  {
   "cell_type": "markdown",
   "id": "cubic-controversy",
   "metadata": {},
   "source": [
    "# ChainMap: Search Multiple Directories"
   ]
  },
  {
   "cell_type": "markdown",
   "id": "prerequisite-swimming",
   "metadata": {},
   "source": [
    "**Acessing Values**"
   ]
  },
  {
   "cell_type": "code",
   "execution_count": 3,
   "id": "ahead-swift",
   "metadata": {},
   "outputs": [
    {
     "data": {
      "text/plain": [
       "'collections chainmap_read'"
      ]
     },
     "execution_count": 3,
     "metadata": {},
     "output_type": "execute_result"
    }
   ],
   "source": [
    "\"\"\"collections chainmap_read\"\"\""
   ]
  },
  {
   "cell_type": "code",
   "execution_count": 22,
   "id": "manual-ticket",
   "metadata": {},
   "outputs": [
    {
     "name": "stdout",
     "output_type": "stream",
     "text": [
      "Individual Values\n",
      "a = A\n",
      "b = B\n",
      "c = C\n",
      "\n",
      "Keys = ['b', 'c', 'a']\n",
      "Values = ['B', 'C', 'A']\n",
      "\n",
      "Items:\n",
      "b = B\n",
      "c = C\n",
      "a = A\n",
      "\n",
      "\"d\" in m: False\n"
     ]
    }
   ],
   "source": [
    "a = {'a':'A', 'c':'C'}\n",
    "b = {'b':'B', 'c':'D'}\n",
    "\n",
    "m = collections.ChainMap(a,b)\n",
    "print(\"Individual Values\")\n",
    "print(\"a = {}\".format(m['a']))\n",
    "print(\"b = {}\".format(m['b']))\n",
    "print(\"c = {}\".format(m['c']))\n",
    "print()\n",
    "\n",
    "print(\"Keys = {}\".format(list(m.keys())))\n",
    "print(\"Values = {}\".format(list(m.values())))\n",
    "print()\n",
    "\n",
    "print(\"Items:\")\n",
    "for k,v in m.items():\n",
    "    print(\"{} = {}\".format(k,v))\n",
    "print()\n",
    "print('\"d\" in m: {}'.format(('d' in m)))"
   ]
  },
  {
   "cell_type": "markdown",
   "id": "handy-emergency",
   "metadata": {},
   "source": [
    "**Reordering**"
   ]
  },
  {
   "cell_type": "code",
   "execution_count": 23,
   "id": "productive-rolling",
   "metadata": {},
   "outputs": [
    {
     "name": "stdout",
     "output_type": "stream",
     "text": [
      "[{'a': 'A', 'c': 'C'}, {'b': 'B', 'c': 'D'}]\n",
      "c = C\n",
      "\n",
      "[{'b': 'B', 'c': 'D'}, {'a': 'A', 'c': 'C'}]\n",
      "c = D\n"
     ]
    }
   ],
   "source": [
    "\"\"\"collections chain map recorder\"\"\"\n",
    "a = {'a':'A', 'c':'C'}\n",
    "b = {'b':'B', 'c':'D'}\n",
    "\n",
    "m = collections.ChainMap(a,b)\n",
    "\n",
    "print(m.maps)\n",
    "print('c = {}\\n'.format(m['c']))\n",
    "\n",
    "# Reverse the list \n",
    "m.maps = list(reversed(m.maps))\n",
    "\n",
    "print(m.maps)\n",
    "print('c = {}'.format(m['c']))"
   ]
  },
  {
   "cell_type": "code",
   "execution_count": null,
   "id": "composite-formula",
   "metadata": {},
   "outputs": [],
   "source": []
  },
  {
   "cell_type": "code",
   "execution_count": 21,
   "id": "fatty-nelson",
   "metadata": {},
   "outputs": [
    {
     "name": "stdout",
     "output_type": "stream",
     "text": [
      "1 [2] 3\n",
      "3 [4] 5\n"
     ]
    }
   ],
   "source": []
  },
  {
   "cell_type": "code",
   "execution_count": null,
   "id": "stuffed-schema",
   "metadata": {},
   "outputs": [],
   "source": []
  },
  {
   "cell_type": "code",
   "execution_count": null,
   "id": "unique-lawsuit",
   "metadata": {},
   "outputs": [],
   "source": []
  },
  {
   "cell_type": "code",
   "execution_count": null,
   "id": "coordinate-legend",
   "metadata": {},
   "outputs": [],
   "source": []
  },
  {
   "cell_type": "code",
   "execution_count": null,
   "id": "bright-plastic",
   "metadata": {},
   "outputs": [],
   "source": []
  },
  {
   "cell_type": "code",
   "execution_count": null,
   "id": "located-absolute",
   "metadata": {},
   "outputs": [],
   "source": []
  },
  {
   "cell_type": "code",
   "execution_count": null,
   "id": "separate-lounge",
   "metadata": {},
   "outputs": [],
   "source": []
  },
  {
   "cell_type": "code",
   "execution_count": null,
   "id": "color-capability",
   "metadata": {},
   "outputs": [],
   "source": []
  },
  {
   "cell_type": "code",
   "execution_count": null,
   "id": "advisory-marketplace",
   "metadata": {},
   "outputs": [],
   "source": []
  },
  {
   "cell_type": "code",
   "execution_count": null,
   "id": "superior-operation",
   "metadata": {},
   "outputs": [],
   "source": []
  },
  {
   "cell_type": "code",
   "execution_count": null,
   "id": "agreed-roller",
   "metadata": {},
   "outputs": [],
   "source": []
  },
  {
   "cell_type": "code",
   "execution_count": null,
   "id": "norwegian-afghanistan",
   "metadata": {},
   "outputs": [],
   "source": []
  },
  {
   "cell_type": "code",
   "execution_count": null,
   "id": "flying-commons",
   "metadata": {},
   "outputs": [],
   "source": []
  },
  {
   "cell_type": "code",
   "execution_count": null,
   "id": "ecological-balloon",
   "metadata": {},
   "outputs": [],
   "source": []
  },
  {
   "cell_type": "code",
   "execution_count": null,
   "id": "dynamic-blackberry",
   "metadata": {},
   "outputs": [],
   "source": []
  }
 ],
 "metadata": {
  "kernelspec": {
   "display_name": "Python 3",
   "language": "python",
   "name": "python3"
  },
  "language_info": {
   "codemirror_mode": {
    "name": "ipython",
    "version": 3
   },
   "file_extension": ".py",
   "mimetype": "text/x-python",
   "name": "python",
   "nbconvert_exporter": "python",
   "pygments_lexer": "ipython3",
   "version": "3.9.2"
  }
 },
 "nbformat": 4,
 "nbformat_minor": 5
}
