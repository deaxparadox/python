{
 "cells": [
  {
   "cell_type": "code",
   "execution_count": 2,
   "id": "e0c3959a",
   "metadata": {},
   "outputs": [
    {
     "name": "stdout",
     "output_type": "stream",
     "text": [
      "a   -1.784376\n",
      "b   -1.532079\n",
      "c   -0.749770\n",
      "d    1.525966\n",
      "e    1.458630\n",
      "dtype: float64\n",
      "Index(['a', 'b', 'c', 'd', 'e'], dtype='object')\n",
      "0    0.476900\n",
      "1    0.368944\n",
      "2    0.956009\n",
      "3    0.776656\n",
      "4    0.114071\n",
      "dtype: float64\n"
     ]
    }
   ],
   "source": [
    "import pandas as pd\n",
    "import numpy as np\n",
    "\n",
    "s = pd.Series(np.random.randn(5), index=['a','b','c','d','e'])\n",
    "print(s)\n",
    "print(s.index)\n",
    "print(pd.Series(np.random.rand(5)))"
   ]
  },
  {
   "cell_type": "code",
   "execution_count": 4,
   "id": "09dcdf89",
   "metadata": {},
   "outputs": [
    {
     "data": {
      "text/plain": [
       "b    1\n",
       "a    0\n",
       "c    2\n",
       "dtype: int64"
      ]
     },
     "execution_count": 4,
     "metadata": {},
     "output_type": "execute_result"
    }
   ],
   "source": [
    "# instantiating Series from dicts:\n",
    "d = {\"b\":1, \"a\":0, \"c\":2}\n",
    "pd.Series(d)"
   ]
  },
  {
   "cell_type": "code",
   "execution_count": 7,
   "id": "512646f8",
   "metadata": {},
   "outputs": [
    {
     "name": "stdout",
     "output_type": "stream",
     "text": [
      "a    0.0\n",
      "b    1.0\n",
      "c    2.0\n",
      "dtype: float64\n",
      "b    1.0\n",
      "c    2.0\n",
      "d    NaN\n",
      "a    0.0\n",
      "dtype: float64\n"
     ]
    }
   ],
   "source": [
    "d = {\"a\":0.0, \"b\":1.0, \"c\":2.0}\n",
    "print(pd.Series(d))\n",
    "print(pd.Series(d, index=['b', 'c','d','a']))"
   ]
  },
  {
   "cell_type": "code",
   "execution_count": 8,
   "id": "5b913668",
   "metadata": {},
   "outputs": [
    {
     "data": {
      "text/plain": [
       "a    5.0\n",
       "b    5.0\n",
       "c    5.0\n",
       "d    5.0\n",
       "e    5.0\n",
       "dtype: float64"
      ]
     },
     "execution_count": 8,
     "metadata": {},
     "output_type": "execute_result"
    }
   ],
   "source": [
    "pd.Series(5.0, index=[\"a\",\"b\",\"c\",\"d\",\"e\"])"
   ]
  },
  {
   "cell_type": "code",
   "execution_count": 13,
   "id": "43db3b3e",
   "metadata": {},
   "outputs": [
    {
     "name": "stdout",
     "output_type": "stream",
     "text": [
      "-1.784375984048621\n",
      "a   -1.784376\n",
      "b   -1.532079\n",
      "c   -0.749770\n",
      "dtype: float64\n",
      "c   -0.749770\n",
      "d    1.525966\n",
      "e    1.458630\n",
      "dtype: float64\n"
     ]
    }
   ],
   "source": [
    "print(s[0])\n",
    "print(s[:3])\n",
    "print(s[-3:])"
   ]
  },
  {
   "cell_type": "code",
   "execution_count": 15,
   "id": "45a2bf5e",
   "metadata": {},
   "outputs": [
    {
     "data": {
      "text/plain": [
       "d    1.525966\n",
       "e    1.458630\n",
       "dtype: float64"
      ]
     },
     "execution_count": 15,
     "metadata": {},
     "output_type": "execute_result"
    }
   ],
   "source": [
    "s[s>s.median()]"
   ]
  },
  {
   "cell_type": "code",
   "execution_count": 18,
   "id": "5dd4bbfa",
   "metadata": {},
   "outputs": [
    {
     "name": "stdout",
     "output_type": "stream",
     "text": [
      "a   -1.784376\n",
      "b   -1.532079\n",
      "c   -0.749770\n",
      "d    1.525966\n",
      "e    1.458630\n",
      "dtype: float64\n",
      "e    1.458630\n",
      "d    1.525966\n",
      "b   -1.532079\n",
      "dtype: float64\n"
     ]
    }
   ],
   "source": [
    "print(s)\n",
    "print(s[[4,3,1]])"
   ]
  },
  {
   "cell_type": "code",
   "execution_count": 21,
   "id": "25d6a3af",
   "metadata": {},
   "outputs": [
    {
     "name": "stdout",
     "output_type": "stream",
     "text": [
      "a    0.167902\n",
      "b    0.216086\n",
      "c    0.472475\n",
      "d    4.599585\n",
      "e    4.300064\n",
      "dtype: float64\n"
     ]
    }
   ],
   "source": [
    "print(np.exp(s))"
   ]
  },
  {
   "cell_type": "code",
   "execution_count": 22,
   "id": "0fdbb7e2",
   "metadata": {},
   "outputs": [
    {
     "data": {
      "text/plain": [
       "dtype('float64')"
      ]
     },
     "execution_count": 22,
     "metadata": {},
     "output_type": "execute_result"
    }
   ],
   "source": [
    "s.dtype"
   ]
  },
  {
   "cell_type": "code",
   "execution_count": 23,
   "id": "369b7c3a",
   "metadata": {},
   "outputs": [
    {
     "data": {
      "text/plain": [
       "<PandasArray>\n",
       "[ -1.784375984048621,  -1.532079194622466, -0.7497699091006894,\n",
       "  1.5259659987517555,  1.4586298699829146]\n",
       "Length: 5, dtype: float64"
      ]
     },
     "execution_count": 23,
     "metadata": {},
     "output_type": "execute_result"
    }
   ],
   "source": [
    "s.array"
   ]
  },
  {
   "cell_type": "code",
   "execution_count": 25,
   "id": "be64a829",
   "metadata": {},
   "outputs": [
    {
     "data": {
      "text/plain": [
       "array([-1.78437598, -1.53207919, -0.74976991,  1.525966  ,  1.45862987])"
      ]
     },
     "execution_count": 25,
     "metadata": {},
     "output_type": "execute_result"
    }
   ],
   "source": [
    "s.to_numpy()"
   ]
  },
  {
   "cell_type": "markdown",
   "id": "dfd355c4",
   "metadata": {},
   "source": [
    "**Series is dict-like**"
   ]
  },
  {
   "cell_type": "code",
   "execution_count": 26,
   "id": "fbe3fd63",
   "metadata": {},
   "outputs": [
    {
     "data": {
      "text/plain": [
       "-1.784375984048621"
      ]
     },
     "execution_count": 26,
     "metadata": {},
     "output_type": "execute_result"
    }
   ],
   "source": [
    "s[\"a\"]"
   ]
  },
  {
   "cell_type": "code",
   "execution_count": 27,
   "id": "182028ae",
   "metadata": {},
   "outputs": [
    {
     "data": {
      "text/plain": [
       "1.4586298699829146"
      ]
     },
     "execution_count": 27,
     "metadata": {},
     "output_type": "execute_result"
    }
   ],
   "source": [
    "s[\"e\"]"
   ]
  },
  {
   "cell_type": "code",
   "execution_count": 32,
   "id": "3f763fc5",
   "metadata": {},
   "outputs": [
    {
     "data": {
      "text/plain": [
       "a   -1.784376\n",
       "b   -1.532079\n",
       "c   -0.749770\n",
       "d    1.525966\n",
       "e    1.458630\n",
       "dtype: float64"
      ]
     },
     "execution_count": 32,
     "metadata": {},
     "output_type": "execute_result"
    }
   ],
   "source": [
    "s"
   ]
  },
  {
   "cell_type": "code",
   "execution_count": 34,
   "id": "43a56c1e",
   "metadata": {},
   "outputs": [
    {
     "data": {
      "text/plain": [
       "True"
      ]
     },
     "execution_count": 34,
     "metadata": {},
     "output_type": "execute_result"
    }
   ],
   "source": [
    "\"e\" in s"
   ]
  },
  {
   "cell_type": "code",
   "execution_count": 35,
   "id": "e30118c3",
   "metadata": {},
   "outputs": [
    {
     "data": {
      "text/plain": [
       "False"
      ]
     },
     "execution_count": 35,
     "metadata": {},
     "output_type": "execute_result"
    }
   ],
   "source": [
    "'f' in s"
   ]
  },
  {
   "cell_type": "code",
   "execution_count": 39,
   "id": "cfb5702e",
   "metadata": {},
   "outputs": [
    {
     "name": "stdout",
     "output_type": "stream",
     "text": [
      "None\n"
     ]
    }
   ],
   "source": [
    "print(s.get(\"f\"))"
   ]
  },
  {
   "cell_type": "code",
   "execution_count": 41,
   "id": "9ec9607e",
   "metadata": {},
   "outputs": [
    {
     "name": "stdout",
     "output_type": "stream",
     "text": [
      "nan\n"
     ]
    }
   ],
   "source": [
    "print(s.get(\"f\", np.nan))"
   ]
  },
  {
   "cell_type": "markdown",
   "id": "64f22c65",
   "metadata": {},
   "source": [
    "**Vectorized operations and label alignment with series**"
   ]
  },
  {
   "cell_type": "code",
   "execution_count": 42,
   "id": "34feec51",
   "metadata": {},
   "outputs": [
    {
     "data": {
      "text/plain": [
       "a   -3.568752\n",
       "b   -3.064158\n",
       "c   -1.499540\n",
       "d    3.051932\n",
       "e    2.917260\n",
       "dtype: float64"
      ]
     },
     "execution_count": 42,
     "metadata": {},
     "output_type": "execute_result"
    }
   ],
   "source": [
    "s+s"
   ]
  },
  {
   "cell_type": "code",
   "execution_count": 43,
   "id": "9922bccb",
   "metadata": {},
   "outputs": [
    {
     "data": {
      "text/plain": [
       "a   -3.568752\n",
       "b   -3.064158\n",
       "c   -1.499540\n",
       "d    3.051932\n",
       "e    2.917260\n",
       "dtype: float64"
      ]
     },
     "execution_count": 43,
     "metadata": {},
     "output_type": "execute_result"
    }
   ],
   "source": [
    "s*2"
   ]
  },
  {
   "cell_type": "code",
   "execution_count": 45,
   "id": "d772bd91",
   "metadata": {},
   "outputs": [
    {
     "data": {
      "text/plain": [
       "a    0.167902\n",
       "b    0.216086\n",
       "c    0.472475\n",
       "d    4.599585\n",
       "e    4.300064\n",
       "dtype: float64"
      ]
     },
     "execution_count": 45,
     "metadata": {},
     "output_type": "execute_result"
    }
   ],
   "source": [
    "np.exp"
   ]
  },
  {
   "cell_type": "code",
   "execution_count": 64,
   "id": "00c27ad3",
   "metadata": {},
   "outputs": [
    {
     "name": "stdout",
     "output_type": "stream",
     "text": [
      "b   -1.532079\n",
      "c   -0.749770\n",
      "d    1.525966\n",
      "e    1.458630\n",
      "dtype: float64 \n",
      " a   -1.784376\n",
      "b   -1.532079\n",
      "c   -0.749770\n",
      "d    1.525966\n",
      "dtype: float64\n"
     ]
    },
    {
     "data": {
      "text/plain": [
       "a         NaN\n",
       "b   -3.064158\n",
       "c   -1.499540\n",
       "d    3.051932\n",
       "e         NaN\n",
       "dtype: float64"
      ]
     },
     "execution_count": 64,
     "metadata": {},
     "output_type": "execute_result"
    }
   ],
   "source": [
    "print(s[1:],\"\\n\",s[:-1])\n",
    "s[1:]+s[:-1]"
   ]
  },
  {
   "cell_type": "code",
   "execution_count": 66,
   "id": "e5046255",
   "metadata": {},
   "outputs": [],
   "source": [
    "s = pd.Series(np.random.rand(5), name='something')"
   ]
  },
  {
   "cell_type": "code",
   "execution_count": 68,
   "id": "7167517d",
   "metadata": {},
   "outputs": [
    {
     "data": {
      "text/plain": [
       "0    0.644079\n",
       "1    0.702699\n",
       "2    0.692844\n",
       "3    0.411212\n",
       "4    0.912599\n",
       "Name: something, dtype: float64"
      ]
     },
     "execution_count": 68,
     "metadata": {},
     "output_type": "execute_result"
    }
   ],
   "source": [
    "s"
   ]
  },
  {
   "cell_type": "code",
   "execution_count": 71,
   "id": "20754d2b",
   "metadata": {},
   "outputs": [
    {
     "data": {
      "text/plain": [
       "'different'"
      ]
     },
     "execution_count": 71,
     "metadata": {},
     "output_type": "execute_result"
    }
   ],
   "source": [
    "s2 = s.rename(\"different\")\n",
    "s2.name\n",
    "\n",
    "# NOTE: s and s2 refer to different objects"
   ]
  },
  {
   "cell_type": "code",
   "execution_count": 80,
   "id": "d440b126",
   "metadata": {},
   "outputs": [
    {
     "name": "stdout",
     "output_type": "stream",
     "text": [
      "0.644079029569523 0.644079029569523\n",
      "0.7026987205571374 0.7026987205571374\n",
      "0.6928444748406082 0.6928444748406082\n",
      "0.41121231915810297 0.41121231915810297\n",
      "0.9125987264079563 0.9125987264079563\n"
     ]
    }
   ],
   "source": [
    "i = 0\n",
    "while i<len(s2):\n",
    "    e1,e2 = s[i], s2[i]\n",
    "    if e1 == e2:\n",
    "        print(e1,e2)\n",
    "    i+=1\n",
    "    \n"
   ]
  },
  {
   "cell_type": "markdown",
   "id": "2f7b78f5",
   "metadata": {},
   "source": [
    "**DataFrame**"
   ]
  },
  {
   "cell_type": "code",
   "execution_count": 83,
   "id": "2eff0265",
   "metadata": {},
   "outputs": [],
   "source": [
    "d = {\n",
    "    \"one\":pd.Series([1.0,2.0,3.0], index=[\"a\", \"b\", \"c\"]),\n",
    "    \"two\":pd.Series([1.0,2.0,3.0,4.0], index=[\"a\", \"b\", \"c\", \"d\"])\n",
    "}"
   ]
  },
  {
   "cell_type": "code",
   "execution_count": 84,
   "id": "68e710cd",
   "metadata": {},
   "outputs": [
    {
     "data": {
      "text/plain": [
       "{'one': a    1.0\n",
       " b    2.0\n",
       " c    3.0\n",
       " dtype: float64,\n",
       " 'two': a    1.0\n",
       " b    2.0\n",
       " c    3.0\n",
       " d    4.0\n",
       " dtype: float64}"
      ]
     },
     "execution_count": 84,
     "metadata": {},
     "output_type": "execute_result"
    }
   ],
   "source": [
    "d"
   ]
  },
  {
   "cell_type": "code",
   "execution_count": 89,
   "id": "0d30144a",
   "metadata": {},
   "outputs": [],
   "source": [
    "df = pd.DataFrame(d)"
   ]
  },
  {
   "cell_type": "code",
   "execution_count": 91,
   "id": "615c7493",
   "metadata": {},
   "outputs": [
    {
     "data": {
      "text/plain": [
       "a    1.0\n",
       "b    2.0\n",
       "c    3.0\n",
       "dtype: float64"
      ]
     },
     "execution_count": 91,
     "metadata": {},
     "output_type": "execute_result"
    }
   ],
   "source": [
    "pd.Series([1.0,2.0,3.0], index=[\"a\", \"b\", \"c\"])"
   ]
  },
  {
   "cell_type": "code",
   "execution_count": 87,
   "id": "221ed996",
   "metadata": {},
   "outputs": [
    {
     "data": {
      "text/html": [
       "<div>\n",
       "<style scoped>\n",
       "    .dataframe tbody tr th:only-of-type {\n",
       "        vertical-align: middle;\n",
       "    }\n",
       "\n",
       "    .dataframe tbody tr th {\n",
       "        vertical-align: top;\n",
       "    }\n",
       "\n",
       "    .dataframe thead th {\n",
       "        text-align: right;\n",
       "    }\n",
       "</style>\n",
       "<table border=\"1\" class=\"dataframe\">\n",
       "  <thead>\n",
       "    <tr style=\"text-align: right;\">\n",
       "      <th></th>\n",
       "      <th>one</th>\n",
       "      <th>two</th>\n",
       "    </tr>\n",
       "  </thead>\n",
       "  <tbody>\n",
       "    <tr>\n",
       "      <th>a</th>\n",
       "      <td>1.0</td>\n",
       "      <td>1.0</td>\n",
       "    </tr>\n",
       "    <tr>\n",
       "      <th>b</th>\n",
       "      <td>2.0</td>\n",
       "      <td>2.0</td>\n",
       "    </tr>\n",
       "    <tr>\n",
       "      <th>c</th>\n",
       "      <td>3.0</td>\n",
       "      <td>3.0</td>\n",
       "    </tr>\n",
       "    <tr>\n",
       "      <th>d</th>\n",
       "      <td>NaN</td>\n",
       "      <td>4.0</td>\n",
       "    </tr>\n",
       "  </tbody>\n",
       "</table>\n",
       "</div>"
      ],
      "text/plain": [
       "   one  two\n",
       "a  1.0  1.0\n",
       "b  2.0  2.0\n",
       "c  3.0  3.0\n",
       "d  NaN  4.0"
      ]
     },
     "execution_count": 87,
     "metadata": {},
     "output_type": "execute_result"
    }
   ],
   "source": [
    "df"
   ]
  },
  {
   "cell_type": "code",
   "execution_count": 94,
   "id": "9a2e4e8f",
   "metadata": {},
   "outputs": [
    {
     "data": {
      "text/html": [
       "<div>\n",
       "<style scoped>\n",
       "    .dataframe tbody tr th:only-of-type {\n",
       "        vertical-align: middle;\n",
       "    }\n",
       "\n",
       "    .dataframe tbody tr th {\n",
       "        vertical-align: top;\n",
       "    }\n",
       "\n",
       "    .dataframe thead th {\n",
       "        text-align: right;\n",
       "    }\n",
       "</style>\n",
       "<table border=\"1\" class=\"dataframe\">\n",
       "  <thead>\n",
       "    <tr style=\"text-align: right;\">\n",
       "      <th></th>\n",
       "      <th>one</th>\n",
       "      <th>two</th>\n",
       "    </tr>\n",
       "  </thead>\n",
       "  <tbody>\n",
       "    <tr>\n",
       "      <th>d</th>\n",
       "      <td>NaN</td>\n",
       "      <td>4.0</td>\n",
       "    </tr>\n",
       "    <tr>\n",
       "      <th>b</th>\n",
       "      <td>2.0</td>\n",
       "      <td>2.0</td>\n",
       "    </tr>\n",
       "    <tr>\n",
       "      <th>a</th>\n",
       "      <td>1.0</td>\n",
       "      <td>1.0</td>\n",
       "    </tr>\n",
       "  </tbody>\n",
       "</table>\n",
       "</div>"
      ],
      "text/plain": [
       "   one  two\n",
       "d  NaN  4.0\n",
       "b  2.0  2.0\n",
       "a  1.0  1.0"
      ]
     },
     "execution_count": 94,
     "metadata": {},
     "output_type": "execute_result"
    }
   ],
   "source": [
    "pd.DataFrame(d, index=[\"d\", \"b\", \"a\"])"
   ]
  },
  {
   "cell_type": "code",
   "execution_count": 97,
   "id": "6405c254",
   "metadata": {},
   "outputs": [
    {
     "data": {
      "text/html": [
       "<div>\n",
       "<style scoped>\n",
       "    .dataframe tbody tr th:only-of-type {\n",
       "        vertical-align: middle;\n",
       "    }\n",
       "\n",
       "    .dataframe tbody tr th {\n",
       "        vertical-align: top;\n",
       "    }\n",
       "\n",
       "    .dataframe thead th {\n",
       "        text-align: right;\n",
       "    }\n",
       "</style>\n",
       "<table border=\"1\" class=\"dataframe\">\n",
       "  <thead>\n",
       "    <tr style=\"text-align: right;\">\n",
       "      <th></th>\n",
       "      <th>two</th>\n",
       "      <th>three</th>\n",
       "    </tr>\n",
       "  </thead>\n",
       "  <tbody>\n",
       "    <tr>\n",
       "      <th>d</th>\n",
       "      <td>4.0</td>\n",
       "      <td>NaN</td>\n",
       "    </tr>\n",
       "    <tr>\n",
       "      <th>b</th>\n",
       "      <td>2.0</td>\n",
       "      <td>NaN</td>\n",
       "    </tr>\n",
       "    <tr>\n",
       "      <th>a</th>\n",
       "      <td>1.0</td>\n",
       "      <td>NaN</td>\n",
       "    </tr>\n",
       "  </tbody>\n",
       "</table>\n",
       "</div>"
      ],
      "text/plain": [
       "   two three\n",
       "d  4.0   NaN\n",
       "b  2.0   NaN\n",
       "a  1.0   NaN"
      ]
     },
     "execution_count": 97,
     "metadata": {},
     "output_type": "execute_result"
    }
   ],
   "source": [
    "# the row and columns lables can be accessed respectively by accessing \n",
    "# the index and columns attributes:\n",
    "pd.DataFrame(d, index=[\"d\", \"b\", \"a\"], columns=[\"two\", \"three\"])"
   ]
  }
 ],
 "metadata": {
  "kernelspec": {
   "display_name": "Python 3 (ipykernel)",
   "language": "python",
   "name": "python3"
  },
  "language_info": {
   "codemirror_mode": {
    "name": "ipython",
    "version": 3
   },
   "file_extension": ".py",
   "mimetype": "text/x-python",
   "name": "python",
   "nbconvert_exporter": "python",
   "pygments_lexer": "ipython3",
   "version": "3.9.2"
  }
 },
 "nbformat": 4,
 "nbformat_minor": 5
}
