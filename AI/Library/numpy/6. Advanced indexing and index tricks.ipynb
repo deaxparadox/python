{
 "cells": [
  {
   "cell_type": "code",
   "execution_count": 3,
   "id": "26e38526",
   "metadata": {},
   "outputs": [],
   "source": [
    "import numpy as np"
   ]
  },
  {
   "cell_type": "markdown",
   "id": "397c92a9",
   "metadata": {},
   "source": [
    "**Indexing with Arrays of Indices**"
   ]
  },
  {
   "cell_type": "code",
   "execution_count": 8,
   "id": "aa533e90",
   "metadata": {},
   "outputs": [
    {
     "data": {
      "text/plain": [
       "array([[ 9, 16],\n",
       "       [81, 49]])"
      ]
     },
     "execution_count": 8,
     "metadata": {},
     "output_type": "execute_result"
    }
   ],
   "source": [
    "# the first 12 square numbers\n",
    "a = np.arange(12)**2\n",
    "\n",
    "# an array of indices\n",
    "i = np.array([1,1,3,8,5])\n",
    "\n",
    "# the elements of `a` at the positions\n",
    "a[i]\n",
    "\n",
    "# a bidimensional array of indices\n",
    "j = np.array([[3,4], [9,7]])\n",
    "# the same shape as `j`\n",
    "a[j]"
   ]
  },
  {
   "cell_type": "code",
   "execution_count": 11,
   "id": "a965a538",
   "metadata": {},
   "outputs": [
    {
     "data": {
      "text/plain": [
       "array([[[  0,   0,   0],\n",
       "        [255,   0,   0],\n",
       "        [  0, 255,   0],\n",
       "        [  0,   0,   0]],\n",
       "\n",
       "       [[  0,   0,   0],\n",
       "        [  0,   0, 255],\n",
       "        [255, 255, 255],\n",
       "        [  0,   0,   0]]])"
      ]
     },
     "execution_count": 11,
     "metadata": {},
     "output_type": "execute_result"
    }
   ],
   "source": [
    "palette = np.array([[0,0,0],   # black\n",
    "                    [255,0,0],    # red \n",
    "                    [0,255,0],    # green \n",
    "                    [0,0,255],    # blue \n",
    "                    [255,255,255]])   # white \n",
    "image = np.array([[0,1,2,0],\n",
    "                  [0,3,4,0]])\n",
    "palette[image]   # the (2,4,3) color image"
   ]
  },
  {
   "cell_type": "code",
   "execution_count": 24,
   "id": "3f40241c",
   "metadata": {},
   "outputs": [
    {
     "data": {
      "text/plain": [
       "array([[[ 2,  1],\n",
       "        [ 3,  3]],\n",
       "\n",
       "       [[ 6,  5],\n",
       "        [ 7,  7]],\n",
       "\n",
       "       [[10,  9],\n",
       "        [11, 11]]])"
      ]
     },
     "execution_count": 24,
     "metadata": {},
     "output_type": "execute_result"
    }
   ],
   "source": [
    "# we can also give indexes for more than one dimension.\n",
    "# The arrays of indices for each dimension must have the same shape \n",
    "a = np.arange(12).reshape(3,4)\n",
    "a\n",
    "\n",
    "# indices for the first dim of `a`\n",
    "i = np.array([[0,1], [1,2]])\n",
    "# indices for the second dim\n",
    "j = np.array([[2,1], [3,3]])\n",
    "\n",
    "# i and j must have equal shape \n",
    "a[i,j]\n",
    "\n",
    "a[i,2]\n",
    "\n",
    "a[:,j]"
   ]
  },
  {
   "cell_type": "code",
   "execution_count": 27,
   "id": "03ae9a4d",
   "metadata": {},
   "outputs": [
    {
     "data": {
      "text/plain": [
       "array([[2, 3],\n",
       "       [2, 3]])"
      ]
     },
     "execution_count": 27,
     "metadata": {},
     "output_type": "execute_result"
    }
   ],
   "source": [
    "# nd array using tuple\n",
    "k = np.array(([2,3], (2,3)))\n",
    "k"
   ]
  },
  {
   "cell_type": "code",
   "execution_count": 31,
   "id": "c0a8bb0f",
   "metadata": {},
   "outputs": [
    {
     "data": {
      "text/plain": [
       "array([[ 2,  5],\n",
       "       [ 7, 11]])"
      ]
     },
     "execution_count": 31,
     "metadata": {},
     "output_type": "execute_result"
    }
   ],
   "source": [
    "l = (i,j)\n",
    "\n",
    "# equivalent to a[i,j]\n",
    "a[l]"
   ]
  },
  {
   "cell_type": "code",
   "execution_count": 38,
   "id": "e9e88f6a",
   "metadata": {},
   "outputs": [
    {
     "data": {
      "text/plain": [
       "array([[ 2,  5],\n",
       "       [ 7, 11]])"
      ]
     },
     "execution_count": 38,
     "metadata": {},
     "output_type": "execute_result"
    }
   ],
   "source": [
    "# however, we cannot do this by putting i and j into an array,\n",
    "# because this array will be interpreted as indexing the first \n",
    "# dimension of a.\n",
    "s = np.array([i,j])\n",
    "\n",
    "#not what we want \n",
    "# a[s]\n",
    "\n",
    "# same as `a[i,j]`\n",
    "a[tuple(s)]"
   ]
  },
  {
   "cell_type": "code",
   "execution_count": 53,
   "id": "cba22a43",
   "metadata": {},
   "outputs": [
    {
     "data": {
      "text/plain": [
       "True"
      ]
     },
     "execution_count": 53,
     "metadata": {},
     "output_type": "execute_result"
    }
   ],
   "source": [
    "# Another common use of indexing with arrays is the search\n",
    "# of the maximum value of time-dependent series\n",
    "\n",
    "# time scale \n",
    "time = np.linspace(20, 145, 5)\n",
    "\n",
    "# time-dependent series\n",
    "data = np.sin(np.arange(20).reshape(5,4))\n",
    "\n",
    "data\n",
    "\n",
    "# index of the maxima for each series \n",
    "ind = data.argmax(axis=0)\n",
    "ind\n",
    "\n",
    "# times corresponding to the maxima\n",
    "time_max = time[ind]\n",
    "\n",
    "data_max = data[ind, range(data.shape[1])]   # => [ind[0], 0], data[ind[1], 1]\n",
    "\n",
    "time_max\n",
    "\n",
    "data_max\n",
    "\n",
    "np.all(data_max == data.max(axis=0))"
   ]
  },
  {
   "cell_type": "code",
   "execution_count": 57,
   "id": "52b42a65",
   "metadata": {},
   "outputs": [
    {
     "data": {
      "text/plain": [
       "array([0, 0, 0, 0, 0])"
      ]
     },
     "execution_count": 57,
     "metadata": {},
     "output_type": "execute_result"
    }
   ],
   "source": [
    "# you can also use indexing with arrays as a target to assign to\n",
    "a = np.arange(5)\n",
    "a\n",
    "a[[1,2,3,4]] = 0\n",
    "a"
   ]
  },
  {
   "cell_type": "code",
   "execution_count": 61,
   "id": "3abdb956",
   "metadata": {},
   "outputs": [
    {
     "data": {
      "text/plain": [
       "array([2, 1, 3, 3, 4])"
      ]
     },
     "execution_count": 61,
     "metadata": {},
     "output_type": "execute_result"
    }
   ],
   "source": [
    "a = np.arange(5)\n",
    "a[[0,0,2]] = [1,2,3]\n",
    "a"
   ]
  },
  {
   "cell_type": "code",
   "execution_count": 65,
   "id": "6109368c",
   "metadata": {},
   "outputs": [
    {
     "data": {
      "text/plain": [
       "array([1, 1, 3, 3, 4])"
      ]
     },
     "execution_count": 65,
     "metadata": {},
     "output_type": "execute_result"
    }
   ],
   "source": [
    "a = np.arange(5)\n",
    "a[[0,0,2]] += 1\n",
    "a"
   ]
  },
  {
   "cell_type": "markdown",
   "id": "c98bfbed",
   "metadata": {},
   "source": [
    "**Indexing with Boolean Arrays**"
   ]
  },
  {
   "cell_type": "code",
   "execution_count": 69,
   "id": "6f549590",
   "metadata": {},
   "outputs": [
    {
     "data": {
      "text/plain": [
       "array([[ 0,  1,  2,  3],\n",
       "       [ 4,  5,  6,  7],\n",
       "       [ 8,  9, 10, 11]])"
      ]
     },
     "execution_count": 69,
     "metadata": {},
     "output_type": "execute_result"
    }
   ],
   "source": [
    "a = np.arange(12).reshape(3,4)\n",
    "a"
   ]
  },
  {
   "cell_type": "code",
   "execution_count": 71,
   "id": "648f1d4d",
   "metadata": {},
   "outputs": [
    {
     "data": {
      "text/plain": [
       "array([[False, False, False, False],\n",
       "       [False,  True,  True,  True],\n",
       "       [ True,  True,  True,  True]])"
      ]
     },
     "execution_count": 71,
     "metadata": {},
     "output_type": "execute_result"
    }
   ],
   "source": [
    "# True all value greator than b\n",
    "b = a > 4\n",
    "b"
   ]
  },
  {
   "cell_type": "code",
   "execution_count": 72,
   "id": "651a0591",
   "metadata": {},
   "outputs": [
    {
     "data": {
      "text/plain": [
       "array([ 5,  6,  7,  8,  9, 10, 11])"
      ]
     },
     "execution_count": 72,
     "metadata": {},
     "output_type": "execute_result"
    }
   ],
   "source": [
    "# 1D array with the selected elements\n",
    "a[b]"
   ]
  },
  {
   "cell_type": "code",
   "execution_count": 76,
   "id": "bc4eac4e",
   "metadata": {},
   "outputs": [
    {
     "data": {
      "text/plain": [
       "array([[0, 1, 2, 3],\n",
       "       [4, 0, 0, 0],\n",
       "       [0, 0, 0, 0]])"
      ]
     },
     "execution_count": 76,
     "metadata": {},
     "output_type": "execute_result"
    }
   ],
   "source": [
    "# all elements of `a` higher then 4 become 0\n",
    "a[b] = 0\n",
    "a"
   ]
  },
  {
   "cell_type": "code",
   "execution_count": 84,
   "id": "61ebfa43",
   "metadata": {},
   "outputs": [
    {
     "data": {
      "text/plain": [
       "array([[0, 0, 0, ..., 0, 0, 0],\n",
       "       [0, 0, 0, ..., 0, 0, 0],\n",
       "       [0, 0, 0, ..., 0, 0, 0],\n",
       "       ...,\n",
       "       [0, 0, 0, ..., 0, 0, 0],\n",
       "       [0, 0, 0, ..., 0, 0, 0],\n",
       "       [0, 0, 0, ..., 0, 0, 0]])"
      ]
     },
     "execution_count": 84,
     "metadata": {},
     "output_type": "execute_result"
    }
   ],
   "source": [
    "import matplotlib.pyplot as plt\n",
    "def mandelbrot(h,w, maxit=20, r=2):\n",
    "    \"\"\"Returns an image of the mandelbrot fractal of size (h,w)\"\"\"\n",
    "    x = np.linspace(-2.5, 1.5, 4*h+1)\n",
    "    y = np.linspace(-1.5, 1.5, 3*w+1)\n",
    "    A, B = np.meshgrid(x,y)\n",
    "    C = A + B*1j\n",
    "    z = np.zeros_like(C)\n",
    "    divtime = maxit + np.zeros(z.shape, dtype=int)\n",
    "    \n",
    "    for i in range(maxit):\n",
    "        z = z**2 + C\n",
    "        diverge = abs(z) > r\n",
    "        div_now = diverge & (divtime == maxit)\n",
    "        divtime[div_now] = i\n",
    "        z[diverge] = r\n",
    "    return divtime \n",
    "mandelbrot(400,400)\n",
    "# plt.imshow(mandelbrot(400,400))"
   ]
  },
  {
   "cell_type": "code",
   "execution_count": 85,
   "id": "04829068",
   "metadata": {},
   "outputs": [
    {
     "data": {
      "text/plain": [
       "array([ 4, 10])"
      ]
     },
     "execution_count": 85,
     "metadata": {},
     "output_type": "execute_result"
    }
   ],
   "source": [
    "a = np.arange(12).reshape(3,4)\n",
    "\n",
    "# first dim selection\n",
    "b1 = np.array([False, True, True])  \n",
    "\n",
    "# Second dim selection\n",
    "b2 = np.array([True, False, True, False])\n",
    "\n",
    "# selecting rows \n",
    "a[b1, :]\n",
    "\n",
    "# same thing\n",
    "a[b1]\n",
    "\n",
    "# selecting columns \n",
    "a[:, b2]\n",
    "\n",
    "# a weird thing to do\n",
    "a[b1, b2]"
   ]
  },
  {
   "cell_type": "markdown",
   "id": "eb1cdd31",
   "metadata": {},
   "source": [
    "**The ix_() function**"
   ]
  },
  {
   "cell_type": "code",
   "execution_count": null,
   "id": "16019f6c",
   "metadata": {},
   "outputs": [],
   "source": []
  },
  {
   "cell_type": "code",
   "execution_count": null,
   "id": "2623a710",
   "metadata": {},
   "outputs": [],
   "source": []
  },
  {
   "cell_type": "code",
   "execution_count": null,
   "id": "7fb7f7d4",
   "metadata": {},
   "outputs": [],
   "source": []
  },
  {
   "cell_type": "code",
   "execution_count": null,
   "id": "6b46222b",
   "metadata": {},
   "outputs": [],
   "source": []
  }
 ],
 "metadata": {
  "kernelspec": {
   "display_name": "Python 3 (ipykernel)",
   "language": "python",
   "name": "python3"
  },
  "language_info": {
   "codemirror_mode": {
    "name": "ipython",
    "version": 3
   },
   "file_extension": ".py",
   "mimetype": "text/x-python",
   "name": "python",
   "nbconvert_exporter": "python",
   "pygments_lexer": "ipython3",
   "version": "3.9.2"
  }
 },
 "nbformat": 4,
 "nbformat_minor": 5
}
