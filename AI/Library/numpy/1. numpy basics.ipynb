{
 "cells": [
  {
   "cell_type": "code",
   "execution_count": 2,
   "id": "d5d54dfc",
   "metadata": {},
   "outputs": [],
   "source": [
    "import numpy as np"
   ]
  },
  {
   "cell_type": "code",
   "execution_count": 20,
   "id": "1483710f",
   "metadata": {},
   "outputs": [
    {
     "data": {
      "text/plain": [
       "array([[0., 0., 0., 0.],\n",
       "       [0., 0., 0., 0.],\n",
       "       [0., 0., 0., 0.]])"
      ]
     },
     "execution_count": 20,
     "metadata": {},
     "output_type": "execute_result"
    }
   ],
   "source": [
    "np.array([[1,2], [3,4]], dtype=complex)    # complex array\n",
    "np.zeros((3,4))                            # array of zeros\n"
   ]
  },
  {
   "cell_type": "code",
   "execution_count": 23,
   "id": "c7c2d783",
   "metadata": {},
   "outputs": [
    {
     "data": {
      "text/plain": [
       "array([[[1, 1, 1, 1],\n",
       "        [1, 1, 1, 1],\n",
       "        [1, 1, 1, 1]],\n",
       "\n",
       "       [[1, 1, 1, 1],\n",
       "        [1, 1, 1, 1],\n",
       "        [1, 1, 1, 1]]], dtype=int16)"
      ]
     },
     "execution_count": 23,
     "metadata": {},
     "output_type": "execute_result"
    }
   ],
   "source": [
    "# create ndarray of itemsize 2 of dimension 3 and length total element\n",
    "b = np.ones((2,3,4), dtype=np.int16)\n",
    "b"
   ]
  },
  {
   "cell_type": "code",
   "execution_count": 22,
   "id": "baca9103",
   "metadata": {},
   "outputs": [
    {
     "data": {
      "text/plain": [
       "array([[ 0,  1,  2,  3,  4],\n",
       "       [ 5,  6,  7,  8,  9],\n",
       "       [10, 11, 12, 13, 14]])"
      ]
     },
     "execution_count": 22,
     "metadata": {},
     "output_type": "execute_result"
    }
   ],
   "source": [
    "a = np.arange(15)\n",
    "a.reshape(3,5)"
   ]
  },
  {
   "cell_type": "code",
   "execution_count": 25,
   "id": "120fa0a6",
   "metadata": {},
   "outputs": [
    {
     "data": {
      "text/plain": [
       "array([0. , 0.3, 0.6, 0.9, 1.2, 1.5, 1.8])"
      ]
     },
     "execution_count": 25,
     "metadata": {},
     "output_type": "execute_result"
    }
   ],
   "source": [
    "np.arange(0,2,0.3)    # it accepts float arguments"
   ]
  },
  {
   "cell_type": "code",
   "execution_count": 27,
   "id": "7c52df79",
   "metadata": {},
   "outputs": [],
   "source": [
    " from numpy import pi"
   ]
  },
  {
   "cell_type": "code",
   "execution_count": 33,
   "id": "a02a4406",
   "metadata": {},
   "outputs": [
    {
     "data": {
      "text/plain": [
       "array([ 0.00000000e+00,  3.15685498e-02,  6.31056313e-02,  9.45798078e-02,\n",
       "        1.25959705e-01,  1.57214043e-01,  1.88311666e-01,  2.19221577e-01,\n",
       "        2.49912962e-01,  2.80355229e-01,  3.10518032e-01,  3.40371303e-01,\n",
       "        3.69885285e-01,  3.99030558e-01,  4.27778068e-01,  4.56099159e-01,\n",
       "        4.83965601e-01,  5.11349616e-01,  5.38223906e-01,  5.64561683e-01,\n",
       "        5.90336692e-01,  6.15523241e-01,  6.40096223e-01,  6.64031143e-01,\n",
       "        6.87304143e-01,  7.09892022e-01,  7.31772266e-01,  7.52923064e-01,\n",
       "        7.73323331e-01,  7.92952733e-01,  8.11791702e-01,  8.29821460e-01,\n",
       "        8.47024034e-01,  8.63382275e-01,  8.78879879e-01,  8.93501396e-01,\n",
       "        9.07232251e-01,  9.20058757e-01,  9.31968129e-01,  9.42948495e-01,\n",
       "        9.52988909e-01,  9.62079363e-01,  9.70210796e-01,  9.77375101e-01,\n",
       "        9.83565137e-01,  9.88774735e-01,  9.92998700e-01,  9.96232822e-01,\n",
       "        9.98473878e-01,  9.99719634e-01,  9.99968847e-01,  9.99221269e-01,\n",
       "        9.97477646e-01,  9.94739716e-01,  9.91010207e-01,  9.86292838e-01,\n",
       "        9.80592311e-01,  9.73914308e-01,  9.66265486e-01,  9.57653470e-01,\n",
       "        9.48086844e-01,  9.37575144e-01,  9.26128849e-01,  9.13759368e-01,\n",
       "        9.00479032e-01,  8.86301080e-01,  8.71239643e-01,  8.55309735e-01,\n",
       "        8.38527236e-01,  8.20908875e-01,  8.02472214e-01,  7.83235632e-01,\n",
       "        7.63218303e-01,  7.42440181e-01,  7.20921979e-01,  6.98685146e-01,\n",
       "        6.75751849e-01,  6.52144947e-01,  6.27887973e-01,  6.03005107e-01,\n",
       "        5.77521152e-01,  5.51461512e-01,  5.24852163e-01,  4.97719629e-01,\n",
       "        4.70090958e-01,  4.41993691e-01,  4.13455834e-01,  3.84505835e-01,\n",
       "        3.55172553e-01,  3.25485227e-01,  2.95473450e-01,  2.65167138e-01,\n",
       "        2.34596503e-01,  2.03792016e-01,  1.72784385e-01,  1.41604519e-01,\n",
       "        1.10283499e-01,  7.88525454e-02,  4.73429900e-02,  1.57862420e-02,\n",
       "       -1.57862420e-02, -4.73429900e-02, -7.88525454e-02, -1.10283499e-01,\n",
       "       -1.41604519e-01, -1.72784385e-01, -2.03792016e-01, -2.34596503e-01,\n",
       "       -2.65167138e-01, -2.95473450e-01, -3.25485227e-01, -3.55172553e-01,\n",
       "       -3.84505835e-01, -4.13455834e-01, -4.41993691e-01, -4.70090958e-01,\n",
       "       -4.97719629e-01, -5.24852163e-01, -5.51461512e-01, -5.77521152e-01,\n",
       "       -6.03005107e-01, -6.27887973e-01, -6.52144947e-01, -6.75751849e-01,\n",
       "       -6.98685146e-01, -7.20921979e-01, -7.42440181e-01, -7.63218303e-01,\n",
       "       -7.83235632e-01, -8.02472214e-01, -8.20908875e-01, -8.38527236e-01,\n",
       "       -8.55309735e-01, -8.71239643e-01, -8.86301080e-01, -9.00479032e-01,\n",
       "       -9.13759368e-01, -9.26128849e-01, -9.37575144e-01, -9.48086844e-01,\n",
       "       -9.57653470e-01, -9.66265486e-01, -9.73914308e-01, -9.80592311e-01,\n",
       "       -9.86292838e-01, -9.91010207e-01, -9.94739716e-01, -9.97477646e-01,\n",
       "       -9.99221269e-01, -9.99968847e-01, -9.99719634e-01, -9.98473878e-01,\n",
       "       -9.96232822e-01, -9.92998700e-01, -9.88774735e-01, -9.83565137e-01,\n",
       "       -9.77375101e-01, -9.70210796e-01, -9.62079363e-01, -9.52988909e-01,\n",
       "       -9.42948495e-01, -9.31968129e-01, -9.20058757e-01, -9.07232251e-01,\n",
       "       -8.93501396e-01, -8.78879879e-01, -8.63382275e-01, -8.47024034e-01,\n",
       "       -8.29821460e-01, -8.11791702e-01, -7.92952733e-01, -7.73323331e-01,\n",
       "       -7.52923064e-01, -7.31772266e-01, -7.09892022e-01, -6.87304143e-01,\n",
       "       -6.64031143e-01, -6.40096223e-01, -6.15523241e-01, -5.90336692e-01,\n",
       "       -5.64561683e-01, -5.38223906e-01, -5.11349616e-01, -4.83965601e-01,\n",
       "       -4.56099159e-01, -4.27778068e-01, -3.99030558e-01, -3.69885285e-01,\n",
       "       -3.40371303e-01, -3.10518032e-01, -2.80355229e-01, -2.49912962e-01,\n",
       "       -2.19221577e-01, -1.88311666e-01, -1.57214043e-01, -1.25959705e-01,\n",
       "       -9.45798078e-02, -6.31056313e-02, -3.15685498e-02, -2.44929360e-16])"
      ]
     },
     "execution_count": 33,
     "metadata": {},
     "output_type": "execute_result"
    }
   ],
   "source": [
    "np.linspace(0,2,9)\n",
    "x = np.linspace(0,2*pi,200)\n",
    "f = np.sin(x)\n",
    "f"
   ]
  },
  {
   "cell_type": "code",
   "execution_count": 43,
   "id": "f6d03628",
   "metadata": {},
   "outputs": [
    {
     "data": {
      "text/plain": [
       "array([[[ 0,  1,  2,  3,  4],\n",
       "        [ 5,  6,  7,  8,  9]],\n",
       "\n",
       "       [[10, 11, 12, 13, 14],\n",
       "        [15, 16, 17, 18, 19]],\n",
       "\n",
       "       [[20, 21, 22, 23, 24],\n",
       "        [25, 26, 27, 28, 29]],\n",
       "\n",
       "       [[30, 31, 32, 33, 34],\n",
       "        [35, 36, 37, 38, 39]],\n",
       "\n",
       "       [[40, 41, 42, 43, 44],\n",
       "        [45, 46, 47, 48, 49]],\n",
       "\n",
       "       [[50, 51, 52, 53, 54],\n",
       "        [55, 56, 57, 58, 59]],\n",
       "\n",
       "       [[60, 61, 62, 63, 64],\n",
       "        [65, 66, 67, 68, 69]],\n",
       "\n",
       "       [[70, 71, 72, 73, 74],\n",
       "        [75, 76, 77, 78, 79]],\n",
       "\n",
       "       [[80, 81, 82, 83, 84],\n",
       "        [85, 86, 87, 88, 89]],\n",
       "\n",
       "       [[90, 91, 92, 93, 94],\n",
       "        [95, 96, 97, 98, 99]]])"
      ]
     },
     "execution_count": 43,
     "metadata": {},
     "output_type": "execute_result"
    }
   ],
   "source": [
    "np.arange(50).reshape(5,10)\n",
    "\n",
    "# ndarray with itemsize 2,\n",
    "# ndim 5\n",
    "# length 50\n",
    "np.arange(50).reshape(2,5,5)\n",
    "\n",
    "np.arange(100).reshape(10,2,5)"
   ]
  },
  {
   "cell_type": "code",
   "execution_count": 48,
   "id": "f0603375",
   "metadata": {},
   "outputs": [
    {
     "data": {
      "text/plain": [
       "array([[5, 4],\n",
       "       [3, 4]])"
      ]
     },
     "execution_count": 48,
     "metadata": {},
     "output_type": "execute_result"
    }
   ],
   "source": [
    "A = np.array([[1,1], [0,1]])\n",
    "B = np.array([[2,0], [3,4]])\n",
    "A*B   # elementwise product \n",
    "A@B   # matrix product \n",
    "A.dot(B)   # another matrix product"
   ]
  },
  {
   "cell_type": "code",
   "execution_count": 64,
   "id": "5e5d80fc",
   "metadata": {},
   "outputs": [
    {
     "data": {
      "text/plain": [
       "array([[3.51182162, 3.9504637 , 3.14415961],\n",
       "       [3.94864945, 3.31183145, 3.42332645]])"
      ]
     },
     "execution_count": 64,
     "metadata": {},
     "output_type": "execute_result"
    }
   ],
   "source": [
    "rg = np.random.default_rng(1)    # create instance of default random number\n",
    "a = np.ones((2,3), dtype=int)\n",
    "b = rg.random((2,3))\n",
    "# print(f\"{a}\\n{b}\")\n",
    "\n",
    "a*=3\n",
    "b+=a\n",
    "b\n"
   ]
  },
  {
   "cell_type": "code",
   "execution_count": 84,
   "id": "ffbaf383",
   "metadata": {},
   "outputs": [
    {
     "data": {
      "text/plain": [
       "array([[ 0.54030231+0.84147098j, -0.84147098+0.54030231j,\n",
       "        -0.54030231-0.84147098j],\n",
       "       [ 0.54030231+0.84147098j, -0.84147098+0.54030231j,\n",
       "        -0.54030231-0.84147098j],\n",
       "       [ 0.54030231+0.84147098j, -0.84147098+0.54030231j,\n",
       "        -0.54030231-0.84147098j]])"
      ]
     },
     "execution_count": 84,
     "metadata": {},
     "output_type": "execute_result"
    }
   ],
   "source": [
    "a = np.ones(9, dtype=np.int32).reshape(3,3)\n",
    "b = np.linspace(0,pi,3)\n",
    "c = a + b\n",
    "c.dtype.name\n",
    "d = np.exp(c*1j)\n",
    "d"
   ]
  },
  {
   "cell_type": "code",
   "execution_count": 91,
   "id": "21aeeb20",
   "metadata": {},
   "outputs": [
    {
     "data": {
      "text/plain": [
       "array([[ 0,  1,  3,  6],\n",
       "       [ 4,  9, 15, 22],\n",
       "       [ 8, 17, 27, 38]])"
      ]
     },
     "execution_count": 91,
     "metadata": {},
     "output_type": "execute_result"
    }
   ],
   "source": [
    "b = np.arange(12).reshape(3,4)\n",
    "\n",
    "b.sum(axis=0)    # sum of each column\n",
    "b.min(axis=1)   # min of each row \n",
    "b.cumsum(axis=1)    # cumulative sum along each row"
   ]
  },
  {
   "cell_type": "code",
   "execution_count": 98,
   "id": "44dec9b7",
   "metadata": {},
   "outputs": [
    {
     "data": {
      "text/plain": [
       "array([[ 0,  1,  3,  6],\n",
       "       [ 4,  9, 15, 22],\n",
       "       [ 8, 17, 27, 38]])"
      ]
     },
     "execution_count": 98,
     "metadata": {},
     "output_type": "execute_result"
    }
   ],
   "source": [
    "# axis 0 mean column add\n",
    "# axis 1 mean row add\n",
    "b.sum(axis=0)\n",
    "\n",
    "# min of each row\n",
    "b.min(axis=1)\n",
    "\n",
    "# cumulative sum along each row\n",
    "b.cumsum(axis=1)"
   ]
  },
  {
   "cell_type": "code",
   "execution_count": 106,
   "id": "dd32b020",
   "metadata": {},
   "outputs": [
    {
     "data": {
      "text/plain": [
       "array([2., 0., 6.])"
      ]
     },
     "execution_count": 106,
     "metadata": {},
     "output_type": "execute_result"
    }
   ],
   "source": [
    "B = np.arange(3)\n",
    "B\n",
    "np.exp(B)\n",
    "np.sqrt(B)\n",
    "C = np.array([2., -1., 4.])\n",
    "np.add(B,C)"
   ]
  },
  {
   "cell_type": "code",
   "execution_count": 118,
   "id": "4dfdbfad",
   "metadata": {},
   "outputs": [
    {
     "name": "stdout",
     "output_type": "stream",
     "text": [
      "9.999999999999998\n",
      "1.0\n",
      "9.999999999999998\n",
      "3.0\n",
      "9.999999999999998\n",
      "4.999999999999999\n",
      "5.999999999999999\n",
      "6.999999999999999\n",
      "7.999999999999999\n",
      "8.999999999999998\n"
     ]
    }
   ],
   "source": [
    "a = np.arange(10)**3\n",
    "a[2:5]\n",
    "\n",
    "# equivalent to a[0:6:2] = 1000;\n",
    "# from start to position 6, exclusive set every 2nd element to 1000\n",
    "a[:6:2] = 1000\n",
    "a\n",
    "\n",
    "a[::-1] # reversed a\n",
    "\n",
    "for i in a:\n",
    "        print(i**(1/3.))"
   ]
  },
  {
   "cell_type": "code",
   "execution_count": 123,
   "id": "4ea67f58",
   "metadata": {},
   "outputs": [
    {
     "data": {
      "text/plain": [
       "array([[10, 11, 12, 13],\n",
       "       [20, 21, 22, 23]])"
      ]
     },
     "execution_count": 123,
     "metadata": {},
     "output_type": "execute_result"
    }
   ],
   "source": [
    "def f(x,y):\n",
    "    return 10 * x + y\n",
    "\n",
    "b = np.fromfunction(f, (5,4), dtype=int)\n",
    "b\n",
    "b[2,3]\n",
    "b[0:5, 1]    # each row in the second column of b\n",
    "b[:, 1]      # equivalend to the previous example\n",
    "b[1:3, :]    # each column in the second and third row of b"
   ]
  },
  {
   "cell_type": "code",
   "execution_count": 125,
   "id": "e3792e70",
   "metadata": {},
   "outputs": [
    {
     "data": {
      "text/plain": [
       "array([40, 41, 42, 43])"
      ]
     },
     "execution_count": 125,
     "metadata": {},
     "output_type": "execute_result"
    }
   ],
   "source": [
    "# the last row. Equivalend to b[-1,:]\n",
    "b[-1]\n",
    "# or \n",
    "b[-1, ...]"
   ]
  },
  {
   "cell_type": "code",
   "execution_count": 132,
   "id": "cdae06d7",
   "metadata": {},
   "outputs": [
    {
     "data": {
      "text/plain": [
       "array([[  2,  13],\n",
       "       [102, 113]])"
      ]
     },
     "execution_count": 132,
     "metadata": {},
     "output_type": "execute_result"
    }
   ],
   "source": [
    "# a 3D array (two stacked 2D array)\n",
    "c = np.array([[[0,1,2],[10,12,13]], [[100,101,102], [110,112,113]]])\n",
    "c.shape\n",
    "\n",
    "# same as c[c, :, :] or c[1]\n",
    "c[1, ...]\n",
    "\n",
    "# same as c[:, :, 2]\n",
    "c[..., 2]"
   ]
  },
  {
   "cell_type": "code",
   "execution_count": 137,
   "id": "59ba6172",
   "metadata": {},
   "outputs": [
    {
     "name": "stdout",
     "output_type": "stream",
     "text": [
      "[0 1 2 3]\n",
      "[10 11 12 13]\n",
      "[20 21 22 23]\n",
      "[30 31 32 33]\n",
      "[40 41 42 43]\n"
     ]
    }
   ],
   "source": [
    "# Iterating over multidimensional arrays done with respect to the first axis:\n",
    "for row in b:\n",
    "    print(row)"
   ]
  },
  {
   "cell_type": "code",
   "execution_count": 138,
   "id": "e775af7c",
   "metadata": {},
   "outputs": [
    {
     "name": "stdout",
     "output_type": "stream",
     "text": [
      "0\n",
      "1\n",
      "2\n",
      "3\n",
      "10\n",
      "11\n",
      "12\n",
      "13\n",
      "20\n",
      "21\n",
      "22\n",
      "23\n",
      "30\n",
      "31\n",
      "32\n",
      "33\n",
      "40\n",
      "41\n",
      "42\n",
      "43\n"
     ]
    }
   ],
   "source": [
    "# if one wants to perform an oepration on each element in the each\n",
    "# on can use flat attribute which is an iterator over all the elements \n",
    "# of the array\n",
    "for element in b.flat:\n",
    "    print(element)"
   ]
  }
 ],
 "metadata": {
  "kernelspec": {
   "display_name": "Python 3 (ipykernel)",
   "language": "python",
   "name": "python3"
  },
  "language_info": {
   "codemirror_mode": {
    "name": "ipython",
    "version": 3
   },
   "file_extension": ".py",
   "mimetype": "text/x-python",
   "name": "python",
   "nbconvert_exporter": "python",
   "pygments_lexer": "ipython3",
   "version": "3.9.2"
  }
 },
 "nbformat": 4,
 "nbformat_minor": 5
}
