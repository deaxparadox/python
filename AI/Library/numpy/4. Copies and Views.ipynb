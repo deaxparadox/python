{
 "cells": [
  {
   "cell_type": "code",
   "execution_count": 2,
   "id": "dafa9b08",
   "metadata": {},
   "outputs": [],
   "source": [
    "import numpy as np"
   ]
  },
  {
   "cell_type": "code",
   "execution_count": 17,
   "id": "22b15d61",
   "metadata": {},
   "outputs": [
    {
     "data": {
      "text/plain": [
       "True"
      ]
     },
     "execution_count": 17,
     "metadata": {},
     "output_type": "execute_result"
    }
   ],
   "source": [
    "a = np.arange(12).reshape((3,4))\n",
    "\n",
    "# no new object is created\n",
    "b = a\n",
    "\n",
    "# a and b are two names for the same ndarray object\n",
    "b is a"
   ]
  },
  {
   "cell_type": "code",
   "execution_count": 18,
   "id": "1ebc8f26",
   "metadata": {},
   "outputs": [
    {
     "name": "stdout",
     "output_type": "stream",
     "text": [
      "140196714320208\n"
     ]
    }
   ],
   "source": [
    "# python3 passes mutable objects as references, so function calls make no copy\n",
    "def f(x):\n",
    "    print(id(x))\n",
    "    \n",
    "# id is a unique identifier of an object\n",
    "id(a)  # may vary\n",
    "f(a)   # may vary"
   ]
  },
  {
   "cell_type": "markdown",
   "id": "be5be519",
   "metadata": {},
   "source": [
    "**View and Shallow Copy**"
   ]
  },
  {
   "cell_type": "code",
   "execution_count": 25,
   "id": "7dda0ad8",
   "metadata": {},
   "outputs": [
    {
     "data": {
      "text/plain": [
       "array([[   0,    1,    2,    3],\n",
       "       [1234,    5,    6,    7],\n",
       "       [   8,    9,   10,   11]])"
      ]
     },
     "execution_count": 25,
     "metadata": {},
     "output_type": "execute_result"
    }
   ],
   "source": [
    "# view() method creates a new object that looks at the \n",
    "# same data\n",
    "c = a.view()\n",
    "c is a\n",
    "\n",
    "# c is a view of the data owned by a \n",
    "c.base is a\n",
    "\n",
    "c.flags.owndata\n",
    "\n",
    "# a's shape doesn't change\n",
    "c = c.reshape((2,6))\n",
    "\n",
    "# a's data changes\n",
    "c[0, 4] = 1234\n",
    "\n",
    "a"
   ]
  },
  {
   "cell_type": "code",
   "execution_count": 29,
   "id": "df26a183",
   "metadata": {},
   "outputs": [
    {
     "data": {
      "text/plain": [
       "array([[   0,   10,   10,    3],\n",
       "       [1234,   10,   10,    7],\n",
       "       [   8,   10,   10,   11]])"
      ]
     },
     "execution_count": 29,
     "metadata": {},
     "output_type": "execute_result"
    }
   ],
   "source": [
    "# Slicing an array returns a view of it\n",
    "s = a[:, 1:3]\n",
    "\n",
    "# s[:] is a view of s. \n",
    "# Note the difference between s = 10 and s[:] = 10\n",
    "s[:] = 10\n",
    "\n",
    "a"
   ]
  },
  {
   "cell_type": "markdown",
   "id": "88a1668d",
   "metadata": {},
   "source": [
    "**Deep Copy**"
   ]
  },
  {
   "cell_type": "code",
   "execution_count": 38,
   "id": "a8b6e43b",
   "metadata": {},
   "outputs": [
    {
     "data": {
      "text/plain": [
       "array([[   0,   10,   10,    3],\n",
       "       [1234,   10,   10,    7],\n",
       "       [   8,   10,   10,   11]])"
      ]
     },
     "execution_count": 38,
     "metadata": {},
     "output_type": "execute_result"
    }
   ],
   "source": [
    "# The copy() method makes a complete compy of the array and its data\n",
    "\n",
    "# a new array object with new data is created \n",
    "d = a.copy()\n",
    "d is a\n",
    "\n",
    "# d doesn't share anything with a \n",
    "d.base is a \n",
    "\n",
    "d[0,0] = 9999\n",
    "a"
   ]
  },
  {
   "cell_type": "code",
   "execution_count": 45,
   "id": "8c2cc8d1",
   "metadata": {},
   "outputs": [
    {
     "data": {
      "text/plain": [
       "array([ 0,  1,  2,  3,  4,  5,  6,  7,  8,  9, 10, 11, 12, 13, 14, 15, 16,\n",
       "       17, 18, 19, 20, 21, 22, 23, 24, 25, 26, 27, 28, 29, 30, 31, 32, 33,\n",
       "       34, 35, 36, 37, 38, 39, 40, 41, 42, 43, 44, 45, 46, 47, 48, 49, 50,\n",
       "       51, 52, 53, 54, 55, 56, 57, 58, 59, 60, 61, 62, 63, 64, 65, 66, 67,\n",
       "       68, 69, 70, 71, 72, 73, 74, 75, 76, 77, 78, 79, 80, 81, 82, 83, 84,\n",
       "       85, 86, 87, 88, 89, 90, 91, 92, 93, 94, 95, 96, 97, 98, 99])"
      ]
     },
     "execution_count": 45,
     "metadata": {},
     "output_type": "execute_result"
    }
   ],
   "source": [
    "a = np.arange(int(1e8))\n",
    "b = a[:100].copy()\n",
    "\n",
    "# the memory of ``a`` can be release\n",
    "del a"
   ]
  },
  {
   "cell_type": "code",
   "execution_count": null,
   "id": "56c398b3",
   "metadata": {},
   "outputs": [],
   "source": []
  },
  {
   "cell_type": "code",
   "execution_count": null,
   "id": "0730ebec",
   "metadata": {},
   "outputs": [],
   "source": []
  }
 ],
 "metadata": {
  "kernelspec": {
   "display_name": "Python 3 (ipykernel)",
   "language": "python",
   "name": "python3"
  },
  "language_info": {
   "codemirror_mode": {
    "name": "ipython",
    "version": 3
   },
   "file_extension": ".py",
   "mimetype": "text/x-python",
   "name": "python",
   "nbconvert_exporter": "python",
   "pygments_lexer": "ipython3",
   "version": "3.9.2"
  }
 },
 "nbformat": 4,
 "nbformat_minor": 5
}
