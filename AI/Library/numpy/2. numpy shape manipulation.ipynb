{
 "cells": [
  {
   "cell_type": "code",
   "execution_count": 11,
   "id": "6e7dce30",
   "metadata": {},
   "outputs": [],
   "source": [
    "import numpy as np\n",
    "import random "
   ]
  },
  {
   "cell_type": "markdown",
   "id": "7696ee9c",
   "metadata": {},
   "source": [
    "**Changing the shape of an array**"
   ]
  },
  {
   "cell_type": "code",
   "execution_count": 21,
   "id": "8fc823ee",
   "metadata": {},
   "outputs": [
    {
     "data": {
      "text/plain": [
       "(3, 4)"
      ]
     },
     "execution_count": 21,
     "metadata": {},
     "output_type": "execute_result"
    }
   ],
   "source": [
    "# array has a shape given by the number of elements along each axis:\n",
    "a = np.floor(10 * np.random.random_sample((3,4)))\n",
    "a\n",
    "a.shape"
   ]
  },
  {
   "cell_type": "code",
   "execution_count": 26,
   "id": "12c8d8d4",
   "metadata": {},
   "outputs": [
    {
     "data": {
      "text/plain": [
       "array([[6., 5., 6.],\n",
       "       [9., 8., 5.],\n",
       "       [8., 6., 6.],\n",
       "       [0., 3., 3.]])"
      ]
     },
     "execution_count": 26,
     "metadata": {},
     "output_type": "execute_result"
    }
   ],
   "source": [
    "# three commands all return a modified array, but do not change the original array\n",
    "\n",
    "# returns the array, flattened \n",
    "a.ravel()\n",
    "\n",
    "# returns thee array with ta modifed shape \n",
    "a.reshape(6,2)\n",
    "\n",
    "# returns the array, transposed\n",
    "a.T"
   ]
  },
  {
   "cell_type": "code",
   "execution_count": 31,
   "id": "138161a7",
   "metadata": {},
   "outputs": [
    {
     "data": {
      "text/plain": [
       "array([[6., 9., 8., 0., 5., 8.],\n",
       "       [6., 3., 6., 5., 6., 3.]])"
      ]
     },
     "execution_count": 31,
     "metadata": {},
     "output_type": "execute_result"
    }
   ],
   "source": [
    "# the reshape() functi noretursn its argument with a modified shape, \n",
    "# whereas the ndarray.resize method modifies the array itself.\n",
    "a \n",
    "a.resize((2,6))\n",
    "a"
   ]
  },
  {
   "cell_type": "code",
   "execution_count": 35,
   "id": "7e5d1ef9",
   "metadata": {},
   "outputs": [
    {
     "data": {
      "text/plain": [
       "array([[6., 9., 8., 0.],\n",
       "       [5., 8., 6., 3.],\n",
       "       [6., 5., 6., 3.]])"
      ]
     },
     "execution_count": 35,
     "metadata": {},
     "output_type": "execute_result"
    }
   ],
   "source": [
    "# if a dimension is given as -1 is the reshaping operation, \n",
    "# the other dimensions are automatically calculated\n",
    "a.reshape(3,-1)"
   ]
  },
  {
   "cell_type": "markdown",
   "id": "56834032",
   "metadata": {},
   "source": [
    "**Stacking together differenct arrays**"
   ]
  },
  {
   "cell_type": "code",
   "execution_count": 52,
   "id": "1c5a8cb6",
   "metadata": {},
   "outputs": [
    {
     "data": {
      "text/plain": [
       "array([[6., 6., 4., 6.],\n",
       "       [6., 9., 7., 3.]])"
      ]
     },
     "execution_count": 52,
     "metadata": {},
     "output_type": "execute_result"
    }
   ],
   "source": [
    "# several arrays can be stacked together along different axes\n",
    "a = np.floor(10 * np.random.random_sample((2,2)))\n",
    "a\n",
    "b = np.floor(10 * np.random.random_sample((2,2)))\n",
    "b\n",
    "\n",
    "np.vstack((a,b))\n",
    "np.hstack((a,b))"
   ]
  },
  {
   "cell_type": "code",
   "execution_count": 62,
   "id": "9e9ee07d",
   "metadata": {},
   "outputs": [
    {
     "data": {
      "text/plain": [
       "array([[4., 3.],\n",
       "       [2., 8.]])"
      ]
     },
     "execution_count": 62,
     "metadata": {},
     "output_type": "execute_result"
    }
   ],
   "source": [
    "# the function column_stakc() stack 1D arrays as columns into \n",
    "# a 2D array. It is equivalent to 'hstack' only for 2D arrays\n",
    "\n",
    "# with 2D arrays\n",
    "from numpy import newaxis\n",
    "np.column_stack((a,b))\n",
    "\n",
    "a = np.array([4., 2.])\n",
    "b = np.array([3., 8.])\n",
    "\n",
    "# returns a 2D array\n",
    "np.column_stack((a,b))\n",
    "\n",
    "# the result is different\n",
    "np.hstack((a,b))\n",
    "\n",
    "# view `a` as a 2D column vector \n",
    "a[:, newaxis]\n",
    "\n",
    "np.column_stack((a[:, newaxis], b[:, newaxis]))\n",
    "\n",
    "# tthe result is the same \n",
    "np.hstack((a[:, newaxis], b[:, newaxis]))"
   ]
  },
  {
   "cell_type": "code",
   "execution_count": 65,
   "id": "a367bf89",
   "metadata": {},
   "outputs": [
    {
     "data": {
      "text/plain": [
       "True"
      ]
     },
     "execution_count": 65,
     "metadata": {},
     "output_type": "execute_result"
    }
   ],
   "source": [
    "# the row_stack() is equivalent to vstakc for any input arrays\n",
    "np.column_stack is np.hstack\n",
    "\n",
    "np.row_stack is np.vstack"
   ]
  },
  {
   "cell_type": "code",
   "execution_count": 67,
   "id": "349c8bfc",
   "metadata": {},
   "outputs": [
    {
     "data": {
      "text/plain": [
       "array([1, 2, 3, 0, 4])"
      ]
     },
     "execution_count": 67,
     "metadata": {},
     "output_type": "execute_result"
    }
   ],
   "source": [
    "# r_ and c_ are usefull for creating arrays by stacking numbers along one axis. \n",
    "# They allow the use of range literals\n",
    "np.r_[1:4, 0, 4]"
   ]
  },
  {
   "cell_type": "code",
   "execution_count": null,
   "id": "238717c1",
   "metadata": {},
   "outputs": [],
   "source": []
  }
 ],
 "metadata": {
  "kernelspec": {
   "display_name": "Python 3 (ipykernel)",
   "language": "python",
   "name": "python3"
  },
  "language_info": {
   "codemirror_mode": {
    "name": "ipython",
    "version": 3
   },
   "file_extension": ".py",
   "mimetype": "text/x-python",
   "name": "python",
   "nbconvert_exporter": "python",
   "pygments_lexer": "ipython3",
   "version": "3.9.2"
  }
 },
 "nbformat": 4,
 "nbformat_minor": 5
}
