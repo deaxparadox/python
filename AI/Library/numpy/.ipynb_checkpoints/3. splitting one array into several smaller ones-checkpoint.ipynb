{
 "cells": [
  {
   "cell_type": "code",
   "execution_count": 2,
   "id": "aaa85b54",
   "metadata": {},
   "outputs": [],
   "source": [
    "import numpy as np"
   ]
  },
  {
   "cell_type": "code",
   "execution_count": 13,
   "id": "38382809",
   "metadata": {},
   "outputs": [
    {
     "data": {
      "text/plain": [
       "[array([[1., 3., 7.],\n",
       "        [0., 0., 6.]]),\n",
       " array([[9.],\n",
       "        [9.]]),\n",
       " array([[0., 1., 0., 0., 0., 5., 4., 5.],\n",
       "        [7., 1., 9., 0., 4., 6., 8., 8.]])]"
      ]
     },
     "execution_count": 13,
     "metadata": {},
     "output_type": "execute_result"
    }
   ],
   "source": [
    "# hsplit(), splits an array along  its horizontal axis,\n",
    "# either by specifying the number of equally shaped arrays\n",
    "# to return, or by specifying the columns after which the \n",
    "# division should occur\n",
    "\n",
    "a = np.floor(10 * np.random.random_sample((2,12)))\n",
    "a\n",
    "\n",
    "# split `a` into 3\n",
    "np.hsplit(a,3)\n",
    "\n",
    "# Split `a` after the third and the fourth column\n",
    "np.hsplit(a, (3,4))\n",
    "\n",
    "# vpsplit splits along the vertical axis, and array_split allows\n",
    "# one to specify along which axis to split\n"
   ]
  },
  {
   "cell_type": "code",
   "execution_count": null,
   "id": "b6a9e75b",
   "metadata": {},
   "outputs": [],
   "source": []
  }
 ],
 "metadata": {
  "kernelspec": {
   "display_name": "Python 3 (ipykernel)",
   "language": "python",
   "name": "python3"
  },
  "language_info": {
   "codemirror_mode": {
    "name": "ipython",
    "version": 3
   },
   "file_extension": ".py",
   "mimetype": "text/x-python",
   "name": "python",
   "nbconvert_exporter": "python",
   "pygments_lexer": "ipython3",
   "version": "3.9.2"
  }
 },
 "nbformat": 4,
 "nbformat_minor": 5
}
