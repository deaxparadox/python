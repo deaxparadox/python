{
 "cells": [
  {
   "cell_type": "markdown",
   "id": "eb04ae7f",
   "metadata": {},
   "source": [
    "# Sorting a Positional List"
   ]
  },
  {
   "cell_type": "code",
   "execution_count": 1,
   "id": "8d4dcc54",
   "metadata": {},
   "outputs": [],
   "source": [
    "def insertion_sort(L):\n",
    "    \"\"\"Sort PositionalList of comparable elements into nondecreasing order.\"\"\"\n",
    "    if len(L)>1:                           # otherwise, no need to sort it\n",
    "        marker = L.first()\n",
    "        while marker != L.last():\n",
    "            pivot = L.after(marker)        # next item to place \n",
    "            value = pivot.element()\n",
    "            if value>marker.element():     # pivot is already sorted\n",
    "                marker = pivot             # pivot becomes new marker \n",
    "            else:                          # must relocate pivot \n",
    "                walk = marker              # find leftmost item greater than value \n",
    "                while walk != L.first() and L.before(walk).element() > value:\n",
    "                    walk = L.before(walk)\n",
    "                L.delete(pivot) \n",
    "                l.add_before(walk, value)    # reinsert value before walk"
   ]
  },
  {
   "cell_type": "code",
   "execution_count": null,
   "id": "2f9f9444",
   "metadata": {},
   "outputs": [],
   "source": [
    "class FavoritesList:\n",
    "    \"\"\"List of elements ordered from most frequently accessed to least.\"\"\"\n",
    "    \n",
    "    # nested _item class \n",
    "    class _Item:\n",
    "        __slots__ = \"_value\", \"_count\"                      # sreamline memory usage\n",
    "        def __init__(self, e):\n",
    "            self._value = e                                 # the user's element \n",
    "            self._count = 0                                 # access count intially zero\n",
    "            \n",
    "    # non pulbic utitilies\n",
    "    def _find_position(self, e):\n",
    "        \"\"\"Search for element e and returns its position (or None if not found)\"\"\"\n",
    "        walk = self._data.first()\n",
    "        while walk is not None and walk.element()._value != e:\n",
    "            walk = self._data.after(walk)\n",
    "        return walk\n",
    "    \n",
    "    # \n",
    "    def _move_up(self,p):\n",
    "        \"\"\"Move item at Position p earlier in the list based on access count.\"\"\"\n",
    "        if p != self._data.first():                          # consider moving...\n",
    "            cnt = p.element()._count()\n",
    "            walk = self._data.before(p)\n",
    "            if cnt > walk.element()._count:                  # must shift forward\n",
    "                while (walk != self._data.first() and cnt > self._data.before(walk).element()._count):\n",
    "                    walk = self._data.before(walk)\n",
    "                self._data.add_before(walk, self._data.delete(p))      # delete/reinsert \n",
    "                \n",
    "    def __init__(self):\n",
    "        \"\"\"Create and empty list of favorites\"\"\"\n",
    "        self._data = PositionaList()                           # will be list of _item instances\n",
    "        \n",
    "    def __len__(self):\n",
    "        \"\"\"Return number of entries on favorites list.\"\"\"\n",
    "        return len(self._data)\n",
    "    \n",
    "    def is_empty(self):\n",
    "        \"\"\"Return True is list is empty\"\"\"\n",
    "        return len(self._data) == 0\n",
    "    \n",
    "    def access(self, e):\n",
    "        \"\"\"Access element e, thereby increasing its access count\"\"\"\n",
    "        p = self._find_position(e)                            # try to locate existing element\n",
    "        if p is None:\n",
    "            p = self._data.add_last(self._Item(e))            # if new, place at end\n",
    "        p.element()._count += 1                               # always increment count \n",
    "        self._move_up(p)                                      # consider moving forward\n",
    "        \n",
    "    def remove(self, e):\n",
    "        \"\"\"Remove element e from the list of favorites\"\"\"\n",
    "        p = self._find_position(e)                            # try to locate existing element \n",
    "        if p is not None:\n",
    "            self._data.delete(p)                              # delete, if found \n",
    "        \n",
    "    def top(self, k):\n",
    "        \"\"\"Generate sequence of top k elements in terms of acccess count.\"\"\"\n",
    "        if not 1 <= k <= len(self):\n",
    "            raise ValueError(\"Illagal value for k\")\n",
    "        walk = self._data.first()\n",
    "        for j in range(k):\n",
    "            item = walk.element()                             # element of list is _Item\n",
    "            yield item._value                                 # report user's element \n",
    "            walk = self._data.after(walk)"
   ]
  },
  {
   "cell_type": "code",
   "execution_count": null,
   "id": "ecdb635e",
   "metadata": {},
   "outputs": [],
   "source": []
  }
 ],
 "metadata": {
  "kernelspec": {
   "display_name": "Python 3 (ipykernel)",
   "language": "python",
   "name": "python3"
  },
  "language_info": {
   "codemirror_mode": {
    "name": "ipython",
    "version": 3
   },
   "file_extension": ".py",
   "mimetype": "text/x-python",
   "name": "python",
   "nbconvert_exporter": "python",
   "pygments_lexer": "ipython3",
   "version": "3.9.2"
  }
 },
 "nbformat": 4,
 "nbformat_minor": 5
}
