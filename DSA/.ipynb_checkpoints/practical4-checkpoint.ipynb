{
 "cells": [
  {
   "cell_type": "code",
   "execution_count": null,
   "id": "french-volume",
   "metadata": {},
   "outputs": [],
   "source": []
  },
  {
   "cell_type": "markdown",
   "id": "driving-baseball",
   "metadata": {},
   "source": [
    "inverse the string "
   ]
  },
  {
   "cell_type": "code",
   "execution_count": 21,
   "id": "immediate-definition",
   "metadata": {},
   "outputs": [],
   "source": [
    "\n",
    "def method1(x):\n",
    "    return \"\".join([i for i in x][::-1])\n",
    "\n",
    "def method2(x):\n",
    "    slen = len(x)\n",
    "    for i in range(1,slen+1):\n",
    "        i=-i\n",
    "        print(x[i],end='')\n",
    "        "
   ]
  },
  {
   "cell_type": "code",
   "execution_count": 23,
   "id": "formal-lithuania",
   "metadata": {},
   "outputs": [
    {
     "name": "stdout",
     "output_type": "stream",
     "text": [
      "hsitin"
     ]
    }
   ],
   "source": [
    "method2(\"nitish\")"
   ]
  },
  {
   "cell_type": "markdown",
   "id": "sitting-breakdown",
   "metadata": {},
   "source": [
    "even and odd in the series "
   ]
  },
  {
   "cell_type": "code",
   "execution_count": 41,
   "id": "descending-symphony",
   "metadata": {},
   "outputs": [
    {
     "data": {
      "text/plain": [
       "'even count: 5 odd count: 3'"
      ]
     },
     "execution_count": 41,
     "metadata": {},
     "output_type": "execute_result"
    }
   ],
   "source": [
    "def oddeven(a=None):\n",
    "    o_count = 0\n",
    "    e_count = 0\n",
    "    for i in a:\n",
    "        if i%2==0:\n",
    "            e_count+=1\n",
    "        else:\n",
    "            o_count+=1\n",
    "    return \"even count: {} odd count: {}\".format(e_count,o_count)\n",
    "\n",
    "oddeven([2,3,45,6,5,4,6,10])            "
   ]
  },
  {
   "cell_type": "markdown",
   "id": "vocational-overview",
   "metadata": {},
   "source": [
    "6. print each letter twice from the word \"PUNE\""
   ]
  },
  {
   "cell_type": "code",
   "execution_count": 33,
   "id": "specific-scientist",
   "metadata": {},
   "outputs": [
    {
     "name": "stdout",
     "output_type": "stream",
     "text": [
      "PP\n",
      "UU\n",
      "NN\n",
      "EE\n"
     ]
    }
   ],
   "source": [
    "word = \"PUNE\"\n",
    "for i in word:\n",
    "    print(i+i)"
   ]
  },
  {
   "cell_type": "markdown",
   "id": "prerequisite-brief",
   "metadata": {},
   "source": [
    "7. for each name in the list print message? Hello, <name>, How are you?"
   ]
  },
  {
   "cell_type": "code",
   "execution_count": 42,
   "id": "green-target",
   "metadata": {},
   "outputs": [
    {
     "name": "stdout",
     "output_type": "stream",
     "text": [
      "Hello Avinash How are you?\n",
      "Hello Rajesh How are you?\n",
      "Hello Aniket How are you?\n",
      "Hello Shankar How are you?\n"
     ]
    }
   ],
   "source": [
    "nlist = ['Avinash','Rajesh','Aniket','Shankar']\n",
    "for n in nlist:\n",
    "    print(\"Hello\", n, \"How are you?\")"
   ]
  },
  {
   "cell_type": "markdown",
   "id": "industrial-publisher",
   "metadata": {},
   "source": [
    "8. Complete the following programme to find first 20 numbers of Fibonacci\n",
    "sequence."
   ]
  },
  {
   "cell_type": "code",
   "execution_count": 55,
   "id": "respected-olive",
   "metadata": {},
   "outputs": [
    {
     "name": "stdout",
     "output_type": "stream",
     "text": [
      "0\n",
      "1\n",
      "1\n",
      "2\n",
      "3\n",
      "5\n",
      "8\n",
      "13\n",
      "21\n",
      "34\n",
      "55\n",
      "89\n",
      "144\n",
      "233\n",
      "377\n",
      "610\n",
      "987\n",
      "1597\n",
      "2584\n",
      "4181\n"
     ]
    }
   ],
   "source": [
    "a=0\n",
    "b=1\n",
    "for i in range(20):\n",
    "    print(a)\n",
    "    c=a+b\n",
    "    a=b\n",
    "    b=c"
   ]
  }
 ],
 "metadata": {
  "kernelspec": {
   "display_name": "Python 3",
   "language": "python",
   "name": "python3"
  },
  "language_info": {
   "codemirror_mode": {
    "name": "ipython",
    "version": 3
   },
   "file_extension": ".py",
   "mimetype": "text/x-python",
   "name": "python",
   "nbconvert_exporter": "python",
   "pygments_lexer": "ipython3",
   "version": "3.9.2"
  }
 },
 "nbformat": 4,
 "nbformat_minor": 5
}
