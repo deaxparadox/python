{
 "cells": [
  {
   "cell_type": "code",
   "execution_count": 14,
   "id": "offshore-vienna",
   "metadata": {},
   "outputs": [],
   "source": [
    "from random import randint "
   ]
  },
  {
   "cell_type": "code",
   "execution_count": 17,
   "id": "attended-design",
   "metadata": {},
   "outputs": [],
   "source": [
    "def pnz(x):\n",
    "    if x == 0:\n",
    "        print(\"Given number is 0\")\n",
    "#     elif x%2==0:\n",
    "    elif x<0:\n",
    "        print(x,\"is a less than 0.\")\n",
    "    else:\n",
    "        print(x,\"is a greator than 0.\")"
   ]
  },
  {
   "cell_type": "code",
   "execution_count": 23,
   "id": "handed-optics",
   "metadata": {},
   "outputs": [
    {
     "name": "stdout",
     "output_type": "stream",
     "text": [
      "-1 is a less than 0.\n",
      "-10 is a less than 0.\n",
      "10 is a greator than 0.\n",
      "-1 is a less than 0.\n",
      "8 is a greator than 0.\n",
      "3 is a greator than 0.\n",
      "10 is a greator than 0.\n",
      "-6 is a less than 0.\n",
      "3 is a greator than 0.\n",
      "9 is a greator than 0.\n"
     ]
    }
   ],
   "source": [
    "for i in range(0,10):\n",
    "    pnz(randint(-10,10))"
   ]
  },
  {
   "cell_type": "code",
   "execution_count": 27,
   "id": "announced-relative",
   "metadata": {},
   "outputs": [],
   "source": [
    "def credit(x):\n",
    "    if x<=23:\n",
    "        print(\"credit {}\\tStudent is a freshman\".format(x))\n",
    "    elif x>23 and x<=53:\n",
    "        print(\"credit {}\\tStudent is a sophomore\".format(x))\n",
    "    elif x>53 and x<=83:\n",
    "        print(\"credit {}\\tStudent is a Junior\".format(x))\n",
    "    else:\n",
    "        print(\"credit {}\\tStudent is a Senior\".format(x))"
   ]
  },
  {
   "cell_type": "code",
   "execution_count": 28,
   "id": "middle-elephant",
   "metadata": {},
   "outputs": [
    {
     "name": "stdout",
     "output_type": "stream",
     "text": [
      "-3 is a less than 0.\n",
      "-9 is a less than 0.\n",
      "-2 is a less than 0.\n",
      "3 is a greator than 0.\n",
      "-8 is a less than 0.\n",
      "3 is a greator than 0.\n",
      "4 is a greator than 0.\n",
      "-10 is a less than 0.\n",
      "-10 is a less than 0.\n",
      "7 is a greator than 0.\n"
     ]
    }
   ],
   "source": [
    "for i in range(0,10):\n",
    "    pnz(randint(1,100))"
   ]
  }
 ],
 "metadata": {
  "kernelspec": {
   "display_name": "pydev",
   "language": "python",
   "name": "pydev"
  },
  "language_info": {
   "codemirror_mode": {
    "name": "ipython",
    "version": 3
   },
   "file_extension": ".py",
   "mimetype": "text/x-python",
   "name": "python",
   "nbconvert_exporter": "python",
   "pygments_lexer": "ipython3",
   "version": "3.9.2"
  }
 },
 "nbformat": 4,
 "nbformat_minor": 5
}
