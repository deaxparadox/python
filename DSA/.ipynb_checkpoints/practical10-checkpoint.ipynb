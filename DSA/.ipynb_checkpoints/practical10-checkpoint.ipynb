{
 "cells": [
  {
   "cell_type": "markdown",
   "id": "billion-friend",
   "metadata": {},
   "source": [
    "4. A root of f (x) = x ** 3 − 10x ** 2 + 5 = 0 lies close to x = 0.7. Compute this\n",
    "root with the Newton-Raphson method."
   ]
  },
  {
   "cell_type": "code",
   "execution_count": 57,
   "id": "bronze-worship",
   "metadata": {},
   "outputs": [],
   "source": [
    "def y(x):\n",
    "    return (x**3)-(10*(x**2))+5\n",
    "def dy(x):\n",
    "    return (3*(x**2))-(20*x)+5"
   ]
  },
  {
   "cell_type": "code",
   "execution_count": 91,
   "id": "reverse-consent",
   "metadata": {},
   "outputs": [
    {
     "name": "stdout",
     "output_type": "stream",
     "text": [
      "0.7256\n",
      "0.7404\n",
      "0.7311\n",
      "0.7368\n",
      "0.7256 0.7311\n",
      "0.7333\n",
      "0.7404 0.7368\n",
      "0.7354\n",
      "0.7311 0.7333\n",
      "0.7341\n",
      "0.7368 0.7354\n",
      "0.7349\n",
      "0.7333 0.7341\n",
      "0.7344\n",
      "0.7354 0.7349\n",
      "0.7347\n",
      "0.7341 0.7344\n",
      "0.7345\n",
      "0.7349 0.7347\n",
      "0.7347\n",
      "0.7344 0.7345\n",
      "0.7346\n",
      "0.7347 0.7347\n"
     ]
    }
   ],
   "source": [
    "def condition1(a,b):\n",
    "#     print(a)\n",
    "    if a==b:\n",
    "        return True\n",
    "\n",
    "def condition2(args=None):\n",
    "    if len(args)>=3:\n",
    "        if args[-3]==args[-1]:\n",
    "            return True\n",
    "\n",
    "x0 = 0.75\n",
    "data = []\n",
    "for i in range(20):\n",
    "    x1 = x0 - (y(x0)/dy(x0))\n",
    "    a=(format(x0,'.4f'))\n",
    "    b=(format(x1,'.4f'))\n",
    "    \n",
    "    print(b)\n",
    "    if condition1(a,b):\n",
    "        break\n",
    "    if condition2(data):\n",
    "        break\n",
    "\n",
    "    \n",
    "    data.append(b)    \n",
    "    x0 = x1\n",
    "    \n"
   ]
  },
  {
   "cell_type": "code",
   "execution_count": 37,
   "id": "white-concentrate",
   "metadata": {},
   "outputs": [
    {
     "name": "stdout",
     "output_type": "stream",
     "text": [
      "d\n",
      "s\n",
      "2\n",
      "*\n",
      "*\n",
      "x\n",
      "3\n"
     ]
    },
    {
     "data": {
      "text/plain": [
       "False"
      ]
     },
     "execution_count": 37,
     "metadata": {},
     "output_type": "execute_result"
    }
   ],
   "source": [
    "def dxdy(x):\n",
    "    dlist = [x for x in x]\n",
    "#     print(dlist)\n",
    "    dlen = len(dlist)\n",
    "    s=-1\n",
    "    i = 0\n",
    "    while True:\n",
    "        p = \n",
    "        if i==len(dlist): return False\n",
    "        dlist[s]\n",
    "        s-=1\n",
    "        i+=1\n",
    "        \n",
    "        \n",
    "dxdy(\"3x**2sd\")\n",
    "    "
   ]
  }
 ],
 "metadata": {
  "kernelspec": {
   "display_name": "Python 3",
   "language": "python",
   "name": "python3"
  },
  "language_info": {
   "codemirror_mode": {
    "name": "ipython",
    "version": 3
   },
   "file_extension": ".py",
   "mimetype": "text/x-python",
   "name": "python",
   "nbconvert_exporter": "python",
   "pygments_lexer": "ipython3",
   "version": "3.9.2"
  }
 },
 "nbformat": 4,
 "nbformat_minor": 5
}
